{
 "cells": [
  {
   "cell_type": "markdown",
   "metadata": {},
   "source": [
    "# Testing your Scobra knowledge\n",
    "\n",
    " The following tutorial will test your knowledge of Scobra. It is important to have read\n",
    " the documentation before you proceed with using this. This is not a graded exam, and you are free to consult\n",
    " the Scobra documentation when using this.\n",
    "<br>\n",
    " If any errors come up, try your best to investigate the problem by consulting\n",
    " the documentation first, then searching google for the specific error. In the worst case, open the solution cell to see the answer.\n",
    " Understand the solution regardless if you got the question correct or wrong. If you have any questions about a specific topic here, feel free to\n",
    " approach your supervisor.\n",
    " <br>\n",
    " Remember, this tutorial basically follows the documentation, from loading to modifying the model. Remember to check and read the documentation. Goodluck!"
   ]
  },
  {
   "cell_type": "markdown",
   "metadata": {},
   "source": [
    "You will need to import scobra first for all of your projects. Then,create an empty model by initializing an instance of scobra.Model"
   ]
  },
  {
   "cell_type": "code",
   "execution_count": 0,
   "metadata": {},
   "outputs": [],
   "source": [
    "import scobra\n",
    "m=scobra.Model()\n",
    "#uncomment the above two lines^\n",
    "# m is the instance of scobra.Model\n"
   ]
  },
  {
   "cell_type": "markdown",
   "metadata": {},
   "source": [
    "Add a cell below this by clicking on this then clicking add cell on the top left of jupyter.\n",
    " Then, show the reactions present in the model. It should return a \"[]\" because it's an empty model. Remember to check your spelling and capitalization!"
   ]
  },
  {
   "cell_type": "markdown",
   "metadata": {},
   "source": [
    " Let's add some reactions! Recall the format of a adding reactions. (Page 11 of Documentation)\n",
    "<br>\n",
    " Create a new reaction with the name 'R1' with metabolites 'A' and 'B', whose coefficients are 1, 0, respectively.\n",
    " Next, make another one named 'R2' with the same Metabolite names but whose coefficients are -2, 1, respectively.\n",
    " Create 'R3' with the same Metabolites with coefficients -1,0, respectively.\n",
    " Finally, make 'R4' with the same Metabolites with coefficients 0,-1, respectively.\n",
    "<br>\n",
    " Models have hundreds of these, and we're only doing this to build a simple model."
   ]
  },
  {
   "cell_type": "code",
   "execution_count": 1,
   "metadata": {},
   "outputs": [
    {
     "data": {
      "text/latex": [
       "$$\n",
       "R1\\quad \\rightarrow A \\\\\n",
       "R2\\quad 2A \\rightarrow B\\\\ \n",
       "R3\\quad A \\rightarrow \\\\\n",
       "R4\\quad B \\rightarrow \n",
       "$$"
      ],
      "text/plain": [
       "<IPython.core.display.Latex object>"
      ]
     },
     "metadata": {},
     "output_type": "display_data"
    }
   ],
   "source": [
    "%%latex\n",
    "$$\n",
    "R1\\quad \\rightarrow A \\\\\n",
    "R2\\quad 2A \\rightarrow B\\\\ \n",
    "R3\\quad A \\rightarrow \\\\\n",
    "R4\\quad B \\rightarrow \n",
    "$$"
   ]
  },
  {
   "cell_type": "code",
   "execution_count": 0,
   "metadata": {},
   "outputs": [],
   "source": [
    "m.AddReaction('R1',{'A':1,'B':0})\n",
    "m.AddReaction('R2',{'A':-2,'B':1})\n",
    "m.AddReaction('R3',{'A':-1,'B':0})\n",
    "m.AddReaction('R4',{'A':0,'B':-1})\n"
   ]
  },
  {
   "cell_type": "code",
   "execution_count": 0,
   "metadata": {},
   "outputs": [],
   "source": [
    "#Run these four commands after your created them to see the difference\n",
    "m.PrintReaction('R1')\n",
    "m.PrintReaction('R2')\n",
    "m.PrintReaction('R3')\n",
    "m.PrintReaction('R4')\n",
    "\n",
    "m.GetReaction('R1')\n",
    "# You can see that 'R1' doesn't have an upper bound of 1000. This is the default constraint for reactions."
   ]
  },
  {
   "cell_type": "markdown",
   "metadata": {},
   "source": [
    " Let's now set a constraint for 'R1'. To do so, follow 2.3.1 - 2.3.3 (pp. 18-19) in the Documentation.\n",
    "<br>\n",
    " Set the lower bound to 10, and upper bound to 10.\n",
    "<br>\n",
    "Now set objective to 'R' and set the direction to maximization"
   ]
  },
  {
   "cell_type": "code",
   "execution_count": 0,
   "metadata": {},
   "outputs": [],
   "source": [
    "m.SetConstraint('R1',10,10)\n",
    "m.SetObjective(['R1'])\n",
    "m.SetObjDirec('Max')\n"
   ]
  },
  {
   "cell_type": "markdown",
   "metadata": {},
   "source": [
    " Now we're ready to solve the system. Run the solve function and GetSol to get a list of solution fluxes."
   ]
  },
  {
   "cell_type": "code",
   "execution_count": 0,
   "metadata": {},
   "outputs": [],
   "source": [
    "m.Solve()\n",
    "m.GetSol()\n",
    "# These should return 'optimal' and {'R1': 10.0, 'R3': 10.0}\n",
    "# R2 and R4's optimal solutions are 0."
   ]
  },
  {
   "cell_type": "markdown",
   "metadata": {},
   "source": [
    " For the curious, this is represented by a Metabolites x Reactions matrix multiplied by a vector given by the objective function. Multiplying this matrix to this vector will give a single number (0).\n",
    " <br>\n",
    " We're finding ou the values of x that satisfy this requirement."
   ]
  },
  {
   "cell_type": "code",
   "execution_count": 0,
   "metadata": {},
   "outputs": [],
   "source": [
    "%%latex\n",
    "$$\n",
    "\\begin{matrix}\n",
    "A\\\\   \n",
    "B\\\\\n",
    "\\end{matrix}\n",
    "\\begin{matrix}\n",
    "R1\\quad R2\\quad R3\\quad R4\\\\\n",
    "\\begin{pmatrix}\n",
    "1 & -2 & -1 & 0\\\\\n",
    "0 & 1 & 0 & -1\\\\\n",
    "\\end{pmatrix}\n",
    "\\end{matrix}\n",
    "\\times\n",
    "\\begin{pmatrix}\n",
    "x_1\\\\\n",
    "x_2\\\\\n",
    "x_3\\\\\n",
    "x_4\\\\\n",
    "\\end{pmatrix}\n",
    "=0\n",
    "$$"
   ]
  },
  {
   "cell_type": "markdown",
   "metadata": {},
   "source": [
    " After solving it,\n",
    " <br>\n",
    " x_1 = 10\n",
    " <br>\n",
    " x_2= 0\n",
    " <br>\n",
    " x_3=10\n",
    " <br>\n",
    " x_4 =0"
   ]
  }
 ],
 "metadata": {
  "file_extension": ".py",
  "kernelspec": {
   "display_name": "Python 2",
   "language": "python",
   "name": "python2"
  },
  "language_info": {
   "codemirror_mode": {
    "name": "ipython",
    "version": 2
   },
   "file_extension": ".py",
   "mimetype": "text/x-python",
   "name": "python",
   "nbconvert_exporter": "python",
   "pygments_lexer": "ipython2",
   "version": "2.7.13"
  },
  "mimetype": "text/x-python",
  "name": "python",
  "npconvert_exporter": "python",
  "pygments_lexer": "ipython3",
  "version": 3
 },
 "nbformat": 4,
 "nbformat_minor": 2
}

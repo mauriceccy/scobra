{
 "cells": [
  {
   "cell_type": "markdown",
   "metadata": {},
   "source": [
    "# Testing your Scobra knowledge\n",
    "\n",
    " The following tutorial will test your knowledge of Scobra. It is important to have read\n",
    " the documentation before you proceed with using this. This is not a graded exam, and you are free to consult\n",
    " the Scobra documentation when using this.\n",
    "<br>\n",
    " If any errors come up, try your best to investigate the problem by consulting\n",
    " the documentation first, then searching google for the specific error. In the worst case, open the solution cell to see the answer.\n",
    " Understand the solution regardless if you got the question correct or wrong. If you have any questions about a specific topic here, feel free to\n",
    " approach your supervisor.\n",
    " <br>\n",
    " Remember, this tutorial basically follows the documentation, from loading to modifying the model. Remember to check and read the documentation. Goodluck!"
   ]
  },
  {
   "cell_type": "markdown",
   "metadata": {},
   "source": [
    "## I. Basic Commands\n",
    "\n",
    "You will need to import scobra first for all of your projects. Then, create an empty model by initializing an instance of scobra.Model"
   ]
  },
  {
   "cell_type": "code",
   "execution_count": 1,
   "metadata": {},
   "outputs": [],
   "source": [
    "import scobra\n",
    "m=scobra.Model()\n",
    "# m is the instance of scobra.Model"
   ]
  },
  {
   "cell_type": "markdown",
   "metadata": {},
   "source": [
    "Add a cell below this by clicking on this then clicking add cell on the top left of jupyter.\n",
    " Then, show the reactions present in the model. It should return a \"[]\" because it's an empty model. Remember to check your spelling and capitalization!"
   ]
  },
  {
   "cell_type": "markdown",
   "metadata": {},
   "source": [
    " Let's add some reactions! Recall the format of a adding reactions. (Page 11 of Documentation)\n",
    "<br>\n",
    " Recall that positive coefficient means the metabolite is a product, negative coefficient means it is a reactant, and zero coefficient means the metabolite is absent in the reaction. <br>\n",
    " Create a new reaction with the name 'R1' with metabolites 'A' and 'B', whose coefficients are 1, 0, respectively.\n",
    " Next, make another one named 'R2' with the same Metabolite names but whose coefficients are -2, 1, respectively.\n",
    " Create 'R3' with the same Metabolites with coefficients -1,0, respectively.\n",
    " Finally, make 'R4' with the same Metabolites with coefficients 0,-1, respectively.\n",
    "<br>\n",
    " Models have hundreds of these, and we're only doing this to build a simple model."
   ]
  },
  {
   "cell_type": "markdown",
   "metadata": {},
   "source": [
    "\n",
    "$$\n",
    "R1\\quad \\rightarrow A \\\\\n",
    "R2\\quad 2A \\rightarrow B\\\\ \n",
    "R3\\quad A \\rightarrow \\\\\n",
    "R4\\quad  \\rightarrow B\n",
    "$$"
   ]
  },
  {
   "cell_type": "code",
   "execution_count": 2,
   "metadata": {},
   "outputs": [],
   "source": [
    "#Syntax to add reactions to the model\n",
    "m.AddReaction('R1',{'A':1,'B':0})\n",
    "m.AddReaction('R2',{'A':-2,'B':1})\n",
    "m.AddReaction('R3',{'A':-1,'B':0})\n",
    "m.AddReaction('R4',{'A':0,'B':1})"
   ]
  },
  {
   "cell_type": "code",
   "execution_count": 3,
   "metadata": {},
   "outputs": [
    {
     "name": "stdout",
     "output_type": "stream",
     "text": [
      "R1\t --> A\n",
      "R2\t2 A --> B\n",
      "R3\tA --> \n",
      "R4\t --> B\n"
     ]
    },
    {
     "data": {
      "text/html": [
       "\n",
       "        <table>\n",
       "            <tr>\n",
       "                <td><strong>Reaction identifier</strong></td><td>R1</td>\n",
       "            </tr><tr>\n",
       "                <td><strong>Name</strong></td><td></td>\n",
       "            </tr><tr>\n",
       "                <td><strong>Memory address</strong></td>\n",
       "                <td>0x07fe6b1762f40</td>\n",
       "            </tr><tr>\n",
       "                <td><strong>Stoichiometry</strong></td>\n",
       "                <td>\n",
       "                    <p style='text-align:right'>--> A</p>\n",
       "                    <p style='text-align:right'>--></p>\n",
       "                </td>\n",
       "            </tr><tr>\n",
       "                <td><strong>GPR</strong></td><td></td>\n",
       "            </tr><tr>\n",
       "                <td><strong>Lower bound</strong></td><td>0.0</td>\n",
       "            </tr><tr>\n",
       "                <td><strong>Upper bound</strong></td><td>1000000</td>\n",
       "            </tr>\n",
       "        </table>\n",
       "        "
      ],
      "text/plain": [
       "<Reaction R1 at 0x7fe6b1762f40>"
      ]
     },
     "execution_count": 3,
     "metadata": {},
     "output_type": "execute_result"
    }
   ],
   "source": [
    "#Run these four commands after your created them to see the difference\n",
    "m.PrintReaction('R1')\n",
    "m.PrintReaction('R2')\n",
    "m.PrintReaction('R3')\n",
    "m.PrintReaction('R4')\n",
    "\n",
    "m.GetReaction('R1')\n",
    "# You can see that 'R1' doesn't have an upper bound of 1000. This is the default constraint for reactions."
   ]
  },
  {
   "cell_type": "markdown",
   "metadata": {},
   "source": [
    " Let's now set a constraint for 'R1'. To do so, follow 2.3.1 - 2.3.3 (pp. 18-19) in the Documentation.\n",
    "<br>\n",
    " Set the lower bound to 10, and upper bound to 10.\n",
    "<br>\n",
    "Now set objective to 'R1' and set the direction to maximization. Here, we want to maximize the flux of reaction 'R1'"
   ]
  },
  {
   "cell_type": "code",
   "execution_count": 4,
   "metadata": {},
   "outputs": [],
   "source": [
    "m.SetConstraint('R1',10,10) #(Reaction Name, Lower Bound, Upper Bound)\n",
    "m.SetObjective(['R1'])\n",
    "m.SetObjDirec('Max') #Another objective direction is 'Min'"
   ]
  },
  {
   "cell_type": "markdown",
   "metadata": {},
   "source": [
    " Now we're ready to solve the system. Run the solve function and GetSol to get a list of solution fluxes."
   ]
  },
  {
   "cell_type": "code",
   "execution_count": 5,
   "metadata": {},
   "outputs": [
    {
     "name": "stdout",
     "output_type": "stream",
     "text": [
      "optimal\n"
     ]
    }
   ],
   "source": [
    "m.Solve()"
   ]
  },
  {
   "cell_type": "markdown",
   "metadata": {},
   "source": [
    "$m.Solve()$ status is 'optimal' which means we have found the fluxes that maximize the objective function. Another possible status is 'infeasible', meaning that no combination of fluxes is in the allowable solution space."
   ]
  },
  {
   "cell_type": "markdown",
   "metadata": {},
   "source": [
    "Now let us see the optimal values of reaction fluxes:"
   ]
  },
  {
   "cell_type": "code",
   "execution_count": 6,
   "metadata": {},
   "outputs": [
    {
     "data": {
      "text/plain": [
       "{'R1': 10.0, 'R3': 10.0}"
      ]
     },
     "execution_count": 6,
     "metadata": {},
     "output_type": "execute_result"
    }
   ],
   "source": [
    "m.GetSol()"
   ]
  },
  {
   "cell_type": "markdown",
   "metadata": {},
   "source": [
    "In the above dictionary, fluxes for 'R2' and 'R4' are missing, meaning they are 0. We can see their values as well by passing an extra argument in the function."
   ]
  },
  {
   "cell_type": "code",
   "execution_count": 7,
   "metadata": {},
   "outputs": [
    {
     "data": {
      "text/plain": [
       "{'R1': 10.0, 'R2': 0.0, 'R3': 10.0, 'R4': 0.0}"
      ]
     },
     "execution_count": 7,
     "metadata": {},
     "output_type": "execute_result"
    }
   ],
   "source": [
    "m.GetSol(IncZeroes=True)"
   ]
  },
  {
   "cell_type": "markdown",
   "metadata": {},
   "source": [
    " For the curious, this is represented by a Metabolites x Reactions matrix multiplied by a vector given by the objective function. Multiplying this matrix to this vector will give a single number (0).\n",
    " <br>\n",
    " We are finding out the values of x that satisfy this requirement."
   ]
  },
  {
   "cell_type": "markdown",
   "metadata": {},
   "source": [
    "$$\n",
    "\\begin{matrix}\n",
    "A\\\\   \n",
    "B\\\\\n",
    "\\end{matrix}\n",
    "\\begin{matrix}\n",
    "R1\\quad R2\\quad R3\\quad R4\\\\\n",
    "\\begin{pmatrix}\n",
    "1 & -2 & -1 & 0\\\\\n",
    "0 & 1 & 0 & -1\\\\\n",
    "\\end{pmatrix}\n",
    "\\end{matrix}\n",
    "\\times\n",
    "\\begin{pmatrix}\n",
    "x_1\\\\\n",
    "x_2\\\\\n",
    "x_3\\\\\n",
    "x_4\\\\\n",
    "\\end{pmatrix}\n",
    "=0\n",
    "$$"
   ]
  },
  {
   "cell_type": "markdown",
   "metadata": {},
   "source": [
    " After solving it given the flux constraints,\n",
    " <br>\n",
    " $x_1 = 10$\n",
    " <br>\n",
    " $x_2= 0$\n",
    " <br>\n",
    " $x_3=10$\n",
    " <br>\n",
    " $x_4 =0$"
   ]
  },
  {
   "cell_type": "markdown",
   "metadata": {},
   "source": [
    "## II. Using a Toy Example\n",
    "\n",
    "Let us now apply our commands on the CAM model to generate biomasses. This section shows the general steps you would do for working on most plants in this research group. Due to the code complexity, code will be posted here along with instructions to modify the code. You must modify the code correctly to make it run.\n",
    "\n",
    "### Step 1. Import libraries and define project directory\n",
    "You should have the CAM model in the directory containing this tutorial. Since it's in the same directory, you only need to put the filename into the EDIT below. Make sure to include the filetype (.xls) at the end!"
   ]
  },
  {
   "cell_type": "code",
   "execution_count": null,
   "metadata": {},
   "outputs": [],
   "source": [
    "import scobra\n",
    "import os\n",
    "#For DataFrames and saving them as .csv (Will be explained later)\n",
    "import pandas as pd\n",
    "\n",
    "#Manually put in the filename that you want to use in between the '' below\n",
    "m=scobra.Model('EDIT') #Edit here (a filename with .xls)\n",
    "\n",
    "#Creates a Project directory. Feel free to change the name\n",
    "sim = 'CAM'\n",
    "if not os.path.isdir(sim):\n",
    "    os.mkdir(sim)\n",
    "sim = sim + '/' + sim"
   ]
  },
  {
   "cell_type": "markdown",
   "metadata": {},
   "source": [
    "### Step 2. Define constraints\n",
    "\n",
    "We first set the constraints that we use for many models. The constraints_list is not actually a list, but it uses Python's dictionary data type in the format {Constraint:Parameters}. Calling constraints_list['Constraint'] will output the corresponding parameters. However, calling constraints_list[(0,0)] will output an error because there are multiple corresponding contraints. This is a general feature of the dictionary. More info on the dictionary datatype here: https://realpython.com/python-dicts/"
   ]
  },
  {
   "cell_type": "code",
   "execution_count": null,
   "metadata": {},
   "outputs": [],
   "source": [
    "### Setting general model constraints\n",
    "constraints_list = {\n",
    "                   'Starch_biomass1':(0,0),\n",
    "                   'Starch_biomass2':(0,0),\n",
    "                   'NADPH_Dehydrogenase_p1':(0,0),\n",
    "                   'NADPH_Dehydrogenase_p2':(0,0),\n",
    "                   'Plastoquinol_Oxidase_p1':(0,0),\n",
    "                   'Plastoquinol_Oxidase_p2':(0,0),\n",
    "                   'SUCROSE_v_dielTransfer':(0,0),\n",
    "                   'FRUCTAN_v_dielTransfer':(0,0),\n",
    "                   }\n",
    "#SetConstraints accepts a dictionary with the appropriate values\n",
    "m.SetConstraints(constraints_list)\n",
    "\n",
    "#Or you can also individually set each constraint\n",
    "m.SetConstraints({'Photon_tx2':(0,0)})\n",
    "#Set the Lower Bound and Upper Bound as 8.5\n",
    "m.SetConstraints({'ATPase_tx1':(8.5/9,8.5/9)})\n",
    "m.SetConstraints({'ATPase_tx2':(8.5/9,8.5/9)})\n",
    "m.SetConstraints({'NADPHoxc_tx1':(8.5/9,8.5/9)})\n",
    "m.SetConstraints({'NADPHoxc_tx2':(8.5/9,8.5/9)})\n",
    "m.SetConstraints({'NADPHoxm_tx1':(8.5/9,8.5/9)})\n",
    "m.SetConstraints({'NADPHoxm_tx2':(8.5/9,8.5/9)})\n",
    "m.SetConstraints({'NADPHoxp_tx1':(8.5/9,8.5/9)})\n",
    "m.SetConstraints({'NADPHoxp_tx2':(8.5/9,8.5/9)})\n",
    "m.SetConstraints({'GLC_tx1':(0,0)})\n",
    "m.SetConstraints({'GLC_tx2':(0,0)})\n",
    "m.SetConstraints({'SO4_tx1':(0,None),'SO4_tx2':(0,None),'Pi_tx1':(0,None),'Pi_tx2':(0,None)})\n",
    "m.SetConstraints({'Biomass_tx1':(0,0),'Biomass_tx2':(0,0)})\n",
    "m.SetConstraints({'Sucrose_tx1':(0,0),'Sucrose_tx2':(0,0)})\n",
    "m.SetConstraints({'H_tx1':(None,None),'H_tx2':(None,None)})\n",
    "m.SetConstraints({'NH4_tx1':(0,0),'NH4_tx2':(0,0)})\n",
    "m.SetConstraints({'unlProtHYPO_c1':(0,0),'unlProtHYPO_c2':(0,0)})\n",
    "m.SetConstraints({'H_ic1':(None,None),'H_ic2':(None,None)})"
   ]
  },
  {
   "cell_type": "code",
   "execution_count": null,
   "metadata": {},
   "outputs": [],
   "source": [
    "### Setting C3 specific constraints\n",
    "m.SetConstraints({'diel_biomass':(0.258565369)})\n",
    "m.SetConstraints({'CO2_tx1':(None,None)})\n",
    "m.SetConstraints({'O2_tx1':(None,None)})\n",
    "m.SetConstraints({'CO2_tx2':(None,None)})\n",
    "m.SetConstraints({'O2_tx2':(None,None)})\n",
    "m.SetReacsFixedRatio({\"RXN_961_p1\":1, \"RIBULOSE_BISPHOSPHATE_CARBOXYLASE_RXN_p1\":3})\n",
    "m.SetReacsFixedRatio({\"RXN_961_p2\":1, \"RIBULOSE_BISPHOSPHATE_CARBOXYLASE_RXN_p2\":3})"
   ]
  },
  {
   "cell_type": "markdown",
   "metadata": {},
   "source": [
    "### Step 3. Set objectives and run the corresponding simulations\n",
    "\n",
    "After defining our constraints, we are ready to set our objective and run the simulation to check if it produces any solutions. We then save the results to csv files with the appropriate filenames"
   ]
  },
  {
   "cell_type": "code",
   "execution_count": null,
   "metadata": {},
   "outputs": [],
   "source": [
    "#We want to minimize the amount of flux produced\n",
    "m.SetObjDirec('EDIT') #Edit here ('Min' for minimize and 'Max' for maximize)\n",
    "m.SetObjective({'Photon_tx1':1,'Photon_tx2':1})\n",
    "\n",
    "#Perform Flux Balance Analysis\n",
    "m.MinFluxSolve()\n",
    "sol=m.GetSol(AsMtx=True)\n",
    "sol.ToFile(sim + '.csv')\n",
    "\n",
    "#Perform Flux Variability Analysis\n",
    "fva = m.FVA(AsMtx=True)\n",
    "fva.to_csv(sim + '_FVA.csv')"
   ]
  },
  {
   "cell_type": "markdown",
   "metadata": {},
   "source": [
    "We should be able to view the files inside the 'CAM' folder."
   ]
  },
  {
   "cell_type": "code",
   "execution_count": null,
   "metadata": {},
   "outputs": [],
   "source": [
    "#Minimization is also our objective for the rest of these simulations, so we don't have to set the objective again\n",
    "\n",
    "### ME only simulation\n",
    "m.SetConstraints({'PEPCARBOXYKIN_RXN_c1':(0,0),'PEPCARBOXYKIN_RXN_c2':(0,0)})\n",
    "m.MinFluxSolve()\n",
    "sol=m.GetSol(AsMtx=True)\n",
    "sol.ToFile(sim + '_ME.csv')\n",
    "fva = m.FVA(AsMtx=True)\n",
    "fva.to_csv(sim + '_ME_FVA.csv')\n",
    "m.SetConstraints({'PEPCARBOXYKIN_RXN_c1':(0,None),'PEPCARBOXYKIN_RXN_c2':(0,None)})\n",
    "\n",
    "### PEPCK only simulation\n",
    "m.SetConstraints({'MALIC_NADP_RXN_c1':(0,0),'MALIC_NADP_RXN_c2':(0,0),'MALIC_NADP_RXN_p1':(0,0),'MALIC_NADP_RXN_p2':(0,0),'MALIC_NAD_RXN_m1':(0,0),'MALIC_NAD_RXN_m2':(0,0)})\n",
    "m.MinFluxSolve()\n",
    "sol=m.GetSol(AsMtx=True)\n",
    "sol.ToFile(sim + '_PEPCK.csv')\n",
    "fva = m.FVA(AsMtx=True)\n",
    "fva.to_csv(sim + '_PEPCK_FVA.csv')\n",
    "m.SetConstraints({'MALIC_NADP_RXN_c1':(0,None),'MALIC_NADP_RXN_c2':(0,None),'MALIC_NADP_RXN_p1':(0,None),'MALIC_NADP_RXN_p2':(0,None),'MALIC_NAD_RXN_m1':(0,None),'MALIC_NAD_RXN_m2':(0,None)})\n",
    "\n",
    "### free carbohydrate storage simulation\n",
    "m.SetConstraints({'SUCROSE_v_dielTransfer':(None,None)})\n",
    "m.SetConstraints({'FRUCTAN_v_dielTransfer':(None,None)})\n",
    "m.MinFluxSolve()\n",
    "sol=m.GetSol(AsMtx=True)\n",
    "sol.ToFile(sim + '_free_storage.csv')\n",
    "fva = m.FVA(AsMtx=True)\n",
    "fva.to_csv(sim + '_free_storage_FVA.csv')\n",
    "\n",
    "### sucrose only simulation\n",
    "m.SetConstraints({'STARCH_p_dielTransfer':(0,0)})\n",
    "m.SetConstraints({'FRUCTAN_v_dielTransfer':(0,0)})\n",
    "m.MinFluxSolve()\n",
    "sol=m.GetSol(AsMtx=True)\n",
    "sol.ToFile(sim + '_sucrose.csv')\n",
    "fva = m.FVA(AsMtx=True)\n",
    "fva.to_csv(sim + '_sucrose_FVA.csv')\n",
    "\n",
    "### fructan only simulation\n",
    "m.SetConstraints({'SUCROSE_v_dielTransfer':(0,0)})\n",
    "m.SetConstraints({'FRUCTAN_v_dielTransfer':(None,None)})\n",
    "m.MinFluxSolve()\n",
    "sol=m.GetSol(AsMtx=True)\n",
    "sol.ToFile(sim + '_fructan.csv')\n",
    "fva = m.FVA(AsMtx=True)\n",
    "fva.to_csv(sim + '_fructan_FVA.csv')"
   ]
  },
  {
   "cell_type": "markdown",
   "metadata": {},
   "source": [
    "### Step 4. Save experimental results in .csv files \n",
    "\n",
    "While the previous code has produced some .csv files, this step produces one summary .csv file that includes the essential information from each simulation. We use Pandas for creating the datatype that stores them (Pandas.DataFrame), which outputs .csv files. Comments will explain the basic functionality of Pandas, but it is very useful to learn other commands for any type of tabular data work. Read more Pandas here: https://www.learnpython.org/en/Pandas_Basics"
   ]
  },
  {
   "cell_type": "code",
   "execution_count": null,
   "metadata": {},
   "outputs": [],
   "source": [
    "### Generate summary files (Supplementary Table S2)\n",
    "\n",
    "#We imported pandas as pd so every pandas command becomes pd.[command]\n",
    "\n",
    "#read_csv reads the .csv file and stores it as a DataFrame\n",
    "ir = pd.read_csv(\"Interested_Rxn.csv\")\n",
    "\n",
    "starch = pd.read_csv(sim + \".csv\")\n",
    "starch = starch.rename(columns={starch.columns[0]:\"Reactions\"})\n",
    "\n",
    "#We combine the two DataFrames by matching them with the 'Reactions' Column\n",
    "ir = pd.merge(ir, starch, on=[\"Reactions\"], how=\"left\")\n",
    "ir = ir.rename(columns={ir.columns[-1]:\"Starch\"})\n",
    "\n",
    "#We do the same for every .csv produced by our simulations\n",
    "\n",
    "pepck = pd.read_csv(sim + \"_PEPCK.csv\")\n",
    "pepck = pepck.rename(columns={pepck.columns[0]:\"Reactions\"})\n",
    "ir = pd.merge(ir, pepck, on=[\"Reactions\"], how=\"left\")\n",
    "ir = ir.rename(columns={ir.columns[-1]:\"PEPCK\"})\n",
    "\n",
    "me = pd.read_csv(sim + \"_ME.csv\")\n",
    "me = me.rename(columns={me.columns[0]:\"Reactions\"})\n",
    "ir = pd.merge(ir, me, on=[\"Reactions\"], how=\"left\")\n",
    "ir = ir.rename(columns={ir.columns[-1]:\"ME\"})\n",
    "\n",
    "free = pd.read_csv(sim + \"_free_storage.csv\")\n",
    "free = free.rename(columns={free.columns[0]:\"Reactions\"})\n",
    "ir = pd.merge(ir, free, on=[\"Reactions\"], how=\"left\")\n",
    "ir = ir.rename(columns={ir.columns[-1]:\"Free\"})\n",
    "\n",
    "sucrose = pd.read_csv(sim + \"_sucrose.csv\")\n",
    "sucrose = sucrose.rename(columns={sucrose.columns[0]:\"Reactions\"})\n",
    "ir = pd.merge(ir, sucrose, on=[\"Reactions\"], how=\"left\")\n",
    "ir = ir.rename(columns={ir.columns[-1]:\"Sucrose\"})\n",
    "\n",
    "fructan = pd.read_csv(sim + \"_fructan.csv\")\n",
    "fructan = fructan.rename(columns={fructan.columns[0]:\"Reactions\"})\n",
    "ir = pd.merge(ir, fructan, on=[\"Reactions\"], how=\"left\")\n",
    "ir = ir.rename(columns={ir.columns[-1]:\"Fructan\"})\n",
    "\n",
    "#We fill all empty cells with 0\n",
    "#Finally, we save our final DataFrame to the summary .csv\n",
    "ir = ir.fillna(0)\n",
    "ir.to_csv(sim + \"_Summary.csv\",index=False)\n",
    "\n",
    "'''\n",
    "Note: This could be abstracted into a for loop because \n",
    "every file undergoes the same set of operations.\n",
    "For the CS person inside you, give it a try.\n",
    "'''"
   ]
  },
  {
   "cell_type": "markdown",
   "metadata": {},
   "source": [
    "### Step 4 (Optional). Getting rid of rows with all zeros and saving the rest in a csv file.\n",
    "The csv file we just produced contains the essential information from each simulation. However, it also contains some rows with all entries equal to '0'. To obtain a csv without these arguably insignificant rows, we can filter the data frame before converting it into a csv.\n"
   ]
  },
  {
   "cell_type": "code",
   "execution_count": null,
   "metadata": {},
   "outputs": [],
   "source": [
    "ir_without_zeros = ir\n",
    "\n",
    "for row in range(len(ir.index)):\n",
    "    flag = False\n",
    "    for column in range(1,len(ir.columns)):\n",
    "        if ir.iat[row, column] != 0:\n",
    "            flag = True\n",
    "            # the moment we realize that there is a non-zero value in one of the columns, we can go ahead to the next row\n",
    "            break\n",
    "    if flag == False:\n",
    "        # drop these rows from the data frame since they do not have a single non-zero value across the columns\n",
    "        ir_without_zeros =  ir_without_zeros.drop(row)\n",
    "\n",
    "# let's save this into a .csv file\n",
    "# index=False is used to fix the indices accordingly after we removed certain rows\n",
    "ir_without_zeros.to_csv(sim + 'test-summary-without-zeros-rows.csv', index = False)"
   ]
  }
 ],
 "metadata": {
  "file_extension": ".py",
  "kernelspec": {
   "display_name": "Python 3 (ipykernel)",
   "language": "python",
   "name": "python3"
  },
  "language_info": {
   "codemirror_mode": {
    "name": "ipython",
    "version": 3
   },
   "file_extension": ".py",
   "mimetype": "text/x-python",
   "name": "python",
   "nbconvert_exporter": "python",
   "pygments_lexer": "ipython3",
   "version": "3.9.12"
  },
  "mimetype": "text/x-python",
  "name": "python",
  "npconvert_exporter": "python",
  "pygments_lexer": "ipython3",
  "version": 3
 },
 "nbformat": 4,
 "nbformat_minor": 4
}

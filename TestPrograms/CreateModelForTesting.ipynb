{
 "cells": [
  {
   "cell_type": "code",
   "execution_count": 9,
   "metadata": {},
   "outputs": [
    {
     "name": "stderr",
     "output_type": "stream",
     "text": [
      "cobra/core/reaction.py:394 \u001b[1;31mUserWarning\u001b[0m: malformed gene_reaction_rule '(  )' for <Reaction HEXOKINASE_RXN_MANNOSE_c at 0x7f38304e5910>\n"
     ]
    },
    {
     "name": "stdout",
     "output_type": "stream",
     "text": [
      "optimal\n"
     ]
    }
   ],
   "source": [
    "import os, sys, inspect\n",
    "currentdir = os.path.dirname(os.path.abspath(inspect.getfile(inspect.currentframe())))\n",
    "gparentdir = os.path.dirname(os.path.dirname(currentdir))\n",
    "sys.path.insert(0, gparentdir)\n",
    "import scobra\n",
    "import get_all_functions as gaf\n",
    "import re\n",
    "\n",
    "new=scobra.Model('sample/Diel_Leaf_Model_cleaned.xls')\n",
    "new= scobra.model(new)\n",
    "#Maximize Sucrose output (objective)\n",
    "#vary light (scan)\n",
    "#allow CO2 and O2, even Proton and Water\n",
    "#Output maintenance ATP and NADPHox\n",
    "tx_and_biomass = []\n",
    "for i in new.Reactions(): \n",
    "    if '_tx' in i:\n",
    "        tx_and_biomass.append(re.search('(.*)_tx', i).group())\n",
    "    elif '_biomass' in i: \n",
    "        tx_and_biomass.append(re.search('(.*)_biomass', i).group())\n",
    "#tx_and_biomass.append(re.search('(.*)_tx', 'slkdfjd_tx').group())\n",
    "tx_and_biomass\n",
    "\n",
    "necessary_rxn= ['ATPase_tx', 'CO2_tx', 'Photon_tx', 'O2_tx','H2O_tx', 'H_tx','NADPHoxc_tx','NADPHoxm_tx','NADPHoxp_tx','Sucrose_tx']\n",
    "unecessary_rxn= list(set(tx_and_biomass) - set(necessary_rxn))\n",
    "\n",
    "#blocking _tx and _biomass reactions that are not considered\n",
    "for i in unecessary_rxn: \n",
    "    new.GetReaction(i).lower_bound = 0.0\n",
    "    new.GetReaction(i).upper_bound = 0.0\n",
    "\n",
    "#freeing _tx and _biomass reactions that are considered\n",
    "for i in necessary_rxn: \n",
    "    if new.GetReaction(i).lower_bound == 0.0:\n",
    "        new.GetReaction(i).upper_bound == 1000.0\n",
    "    else: \n",
    "        new.GetReaction(i).lower_bound == 1000.0\n",
    "        new.GetReaction(i).upper_bound == 1000.0\n",
    "\n",
    "#setting constraints\n",
    "#new.SetConstraint('ATPase_tx', 90, 90)\n",
    "#new.SetConstraint('NADPHoxc_tx', 10, 10)\n",
    "#new.SetConstraint('NADPHoxm_tx', 10, 10)\n",
    "#new.SetConstraint('NADPHoxp_tx', 10, 10)\n",
    "#setting constraints for sucrose entering and exiting cytoplasm\n",
    "new.SetConstraint('Sucrose_ec', -1, -1)\n",
    "\n",
    "#setting objectives\n",
    "new.SetObjective('Photon_tx')\n",
    "new.SetObjDirec('Min')\n",
    "#new.SetFixedFlux({'unlProtHYPO_c': 0})\n",
    "\n",
    "#running scans\n",
    "#new.MinFluxSolve() \n",
    "new.Solve()"
   ]
  },
  {
   "cell_type": "code",
   "execution_count": 27,
   "metadata": {},
   "outputs": [
    {
     "data": {
      "text/plain": [
       "67"
      ]
     },
     "execution_count": 27,
     "metadata": {},
     "output_type": "execute_result"
    }
   ],
   "source": [
    "len(new.GetSol())"
   ]
  },
  {
   "cell_type": "code",
   "execution_count": 29,
   "metadata": {},
   "outputs": [
    {
     "data": {
      "text/plain": [
       "638"
      ]
     },
     "execution_count": 29,
     "metadata": {},
     "output_type": "execute_result"
    }
   ],
   "source": [
    "len(new.Reactions())"
   ]
  },
  {
   "cell_type": "code",
   "execution_count": 6,
   "metadata": {},
   "outputs": [],
   "source": [
    "#new.WriteModel('/home/kristoforus/Desktop/model.xls')"
   ]
  },
  {
   "cell_type": "code",
   "execution_count": 31,
   "metadata": {},
   "outputs": [
    {
     "name": "stdout",
     "output_type": "stream",
     "text": [
      "['ATP_AMP_mc', 'Mitochondrial_ATP_Synthase_m', 'Plastidial_ATP_Synthase_p', 'ATP_ADP_Pi_pc']\n"
     ]
    }
   ],
   "source": [
    "lst_submodel = [new.GetReaction(x) for x in new.GetSol()]\n",
    "testm = new.SubModel(lst_submodel)\n",
    "\n",
    "print( [ i for i in testm.Reactions() if 'ATP' in i])"
   ]
  },
  {
   "cell_type": "code",
   "execution_count": 32,
   "metadata": {},
   "outputs": [
    {
     "data": {
      "text/plain": [
       "67"
      ]
     },
     "execution_count": 32,
     "metadata": {},
     "output_type": "execute_result"
    }
   ],
   "source": [
    "len(testm.Reactions())"
   ]
  },
  {
   "cell_type": "code",
   "execution_count": 33,
   "metadata": {},
   "outputs": [],
   "source": [
    "testm.SetObjective('Photon_tx')\n",
    "testm.SetObjDirec('Min')"
   ]
  },
  {
   "cell_type": "code",
   "execution_count": 35,
   "metadata": {},
   "outputs": [
    {
     "name": "stdout",
     "output_type": "stream",
     "text": [
      "optimal\n"
     ]
    },
    {
     "data": {
      "text/plain": [
       "67"
      ]
     },
     "execution_count": 35,
     "metadata": {},
     "output_type": "execute_result"
    }
   ],
   "source": [
    "testm.Solve()\n",
    "testm.GetSol()\n",
    "len(testm.GetSol())"
   ]
  },
  {
   "cell_type": "code",
   "execution_count": 37,
   "metadata": {},
   "outputs": [],
   "source": [
    "testm.WriteModel('/home/kristoforus/Desktop/testmodel.xls')"
   ]
  }
 ],
 "metadata": {
  "kernelspec": {
   "display_name": "Python 2",
   "language": "python",
   "name": "python2"
  },
  "language_info": {
   "codemirror_mode": {
    "name": "ipython",
    "version": 2
   },
   "file_extension": ".py",
   "mimetype": "text/x-python",
   "name": "python",
   "nbconvert_exporter": "python",
   "pygments_lexer": "ipython2",
   "version": "2.7.12"
  }
 },
 "nbformat": 4,
 "nbformat_minor": 2
}

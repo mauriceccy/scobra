{
 "cells": [
  {
   "cell_type": "code",
   "execution_count": 3,
   "metadata": {
    "scrolled": true
   },
   "outputs": [
    {
     "name": "stderr",
     "output_type": "stream",
     "text": [
      "cobra/core/reaction.py:394 \u001b[1;31mUserWarning\u001b[0m: malformed gene_reaction_rule '(  )' for <Reaction HEXOKINASE_RXN_MANNOSE_c2 at 0x7f43f9fecd10>\n",
      "cobra/core/reaction.py:394 \u001b[1;31mUserWarning\u001b[0m: malformed gene_reaction_rule '(  )' for <Reaction HEXOKINASE_RXN_MANNOSE_c1 at 0x7f43fba77150>\n"
     ]
    }
   ],
   "source": [
    "import os, sys, inspect\n",
    "currentdir = os.path.dirname(os.path.abspath(inspect.getfile(inspect.currentframe())))\n",
    "gparentdir = os.path.dirname(os.path.dirname(currentdir))\n",
    "sys.path.insert(0, gparentdir)\n",
    "import scobra\n",
    "import get_all_functions as gaf\n",
    "import re\n",
    "n = scobra.Model(\"sample/Supplemental-Data-S1_Core-Leaf-Model.xml\")\n",
    "m = scobra.model(n)"
   ]
  },
  {
   "cell_type": "code",
   "execution_count": 2,
   "metadata": {},
   "outputs": [
    {
     "name": "stdout",
     "output_type": "stream",
     "text": [
      "['__init__', 'WriteModel', 'WriteFile', 'ToFile', 'Copy', 'SubModel', 'DuplicateModel', 'MergeWithModel', 'GetReaction', 'GetMetabolite', 'GetGene', 'GetReactions', 'GetMetabolites', 'GetGenes', 'GetReactionName', 'GetMetaboliteName', 'GetGeneName', 'GetReactionNames', 'GetMetaboliteNames', 'GetGeneNames', 'Reactions', 'Metabolites', 'Genes', 'solution', 'InvolvedWith', 'PrintReaction', 'PrintReactions', 'AssignMetabolitesNeutralFormula', 'ReactionsToGenesAssociations', 'GenesToReactionsAssociations', 'ReactionsToSubsystemsAssociations', 'SubsystemsToReactionsAssociations', 'GenesToSubsystemsAssociations', 'SubsystemsToGenesAssociations', 'NumberOfAssociations', 'Isozymes', 'SplitRev', 'MergeRev', 'Optimal', 'GetStatusMsg', 'SetBounds', 'SetAllRev', 'Solve', 'MinFluxSolve', 'AdjustedMinFluxSolve', 'MinReactionsSolve', 'SetObjDirec', 'SetObjective', 'SetQuadraticObjective', 'ZeroObjective', 'GetObjVal', 'GetObjDirec', 'GetObjective', 'GetConstraints', 'GetConstraint', 'SetConstraints', 'SetConstraint', 'SetFixedFlux', 'GetState', 'SetState', 'SetSumReacsConstraint', 'DelSumReacsConstraint', 'SetObjAsConstraint', 'DelObjAsConstraint', 'SetReacsFixedRatio', 'DelReacsFixedRatio', 'AddMetabolite', 'DelMetabolite', 'DelMetabolites', 'SubstituteMetabolite', 'AddReaction', 'DelReaction', 'DelReactions', 'ChangeReactionStoichiometry', 'GetSol', 'PrintSol(self, lo=0, hi=float', 'SolsDiff', 'NetStoi', 'SetMetsBounds', 'SetMetBounds', 'ProduceMetabolites', 'BlockedMetabolites', 'FVA', 'AllFluxRange', 'FluxRange', 'FluxVariability', 'InternalCycles', 'FCA', 'Pareto', 'ConstraintScan', 'RatioScan', 'Constraint2DScan', 'ConstraintRandomMinFluxScan', 'RatioRandomMinFluxScan', 'WeightingScan', 'MatchFlux', 'MatchRatio', 'MatchScan', 'PhasePlane', 'LinearMOMA', 'MinDiffFromFlux', 'CleanUpTempVar', 'MOMA', 'MOMA2mutant', 'ROOM', 'GeometricSol', 'RandomMinFlux', 'FluxRangeDiff', 'FluxDiffDirec', 'FluxRangeOverlap', 'FluxSum', 'ProducedBy', 'ConsumedBy', 'DeadMetabolites', 'NoDeadEndModel', 'DeadEndMetabolites', 'PeripheralMetabolites', 'ChokepointReactions', 'GetNeighbours', 'GetNeighboursAsDic', 'Degree', 'DegreeDist', 'MetabolitesDegree', 'ReactionsDegree', 'SingleDeletion', 'EssentialGenes', 'EssentialReactions', 'DoubleDeletion', 'WriteNetwork', 'WriteAttributes', 'AddProtonsToMets', 'AddProtonsToMet', 'ImbalanceReactions', 'CheckReactionBalance']\n"
     ]
    }
   ],
   "source": [
    "#from model.py\n",
    "thefile = enumerate(open(gparentdir + \"/scobra/classes/model.py\"))\n",
    "flist = gaf.get_function_names(thefile)"
   ]
  },
  {
   "cell_type": "code",
   "execution_count": 4,
   "metadata": {},
   "outputs": [
    {
     "name": "stdout",
     "output_type": "stream",
     "text": [
      "GetReaction: 32\n",
      "Reactions: 37\n",
      "Metabolites: 27\n",
      "solution: 25\n"
     ]
    }
   ],
   "source": [
    "def filter_f(lower, upper=100):\n",
    "    for i in flist: \n",
    "        count = 0 \n",
    "        for j in open(gparentdir + \"/scobra/classes/model.py\"): \n",
    "            if i in j: \n",
    "                count += 1\n",
    "        if count > lower and count < upper: \n",
    "            print(\"%s: %d\" % (i, count))\n",
    "filter_f(20)"
   ]
  },
  {
   "cell_type": "code",
   "execution_count": 5,
   "metadata": {},
   "outputs": [
    {
     "name": "stdout",
     "output_type": "stream",
     "text": [
      "optimal\n"
     ]
    },
    {
     "data": {
      "text/plain": [
       "<Solution 0.000 at 0x7ff0bfbfbf90>"
      ]
     },
     "execution_count": 5,
     "metadata": {},
     "output_type": "execute_result"
    }
   ],
   "source": [
    "m.Metabolites()\n",
    "m.Reactions()\n",
    "m.GetReaction('Pi_PROTON_mc2')\n",
    "m.GetMetabolite('pALA_b2')\n",
    "m.GetReactionName('Pi_PROTON_mc2')\n",
    "m.Solve()\n",
    "m.solution"
   ]
  },
  {
   "cell_type": "code",
   "execution_count": 6,
   "metadata": {},
   "outputs": [],
   "source": [
    "m.Genes()\n",
    "m.GetGene('SOLYC03G062890.2')\n",
    "m.GetMetaboliteName('pALA_b2')\n",
    "m.InvolvedWith('Pi_PROTON_mc2')\n",
    "m.SetConstraint('Pi_PROTON_mc2', 0, 10)\n",
    "m.SetMetBounds('3_DEHYDRO_SHIKIMATE_p2', 100)"
   ]
  },
  {
   "cell_type": "code",
   "execution_count": 7,
   "metadata": {},
   "outputs": [
    {
     "data": {
      "text/plain": [
       "6"
      ]
     },
     "execution_count": 7,
     "metadata": {},
     "output_type": "execute_result"
    }
   ],
   "source": [
    "m.Degree('CYTOCHROME_C_OXIDASE_RXN_mi1')"
   ]
  },
  {
   "cell_type": "code",
   "execution_count": 8,
   "metadata": {},
   "outputs": [],
   "source": [
    "m.WriteModel(currentdir + \"/misc/TestSBML\", model_format=\"sbml\")\n",
    "## works for sbml, xml, and json \n",
    "## writing to xls, matlab, scrumpy requires more modules \n",
    "## writing to cobra and cobra old is problematic\n",
    "m.WriteFile(currentdir + \"/misc/TestSBML\", model_format=\"sbml\")\n",
    "m.ToFile(currentdir + \"/misc/TestXML\", model_format=\"xml\")"
   ]
  },
  {
   "cell_type": "code",
   "execution_count": 9,
   "metadata": {},
   "outputs": [],
   "source": [
    "m.Copy()\n",
    "m.SubModel({'CYTOCHROME_C_OXIDASE_RXN_mi1': 10, 'NADPPHOSPHAT_RXN_c1': 20})\n",
    "n = m.DuplicateModel(['_c'])\n",
    "m.MergeWithModel(n)"
   ]
  },
  {
   "cell_type": "code",
   "execution_count": 10,
   "metadata": {},
   "outputs": [
    {
     "name": "stdout",
     "output_type": "stream",
     "text": [
      "CYTOCHROME_C_OXIDASE_RXN_mi1\t4.0 Cytochromes_C_Reduced_mi1 + OXYGEN_MOLECULE_m1 + 8.0 PROTON_m1 --> 4.0 Cytochromes_C_Oxidized_mi1 + 4.0 PROTON_i1 + 2.0 WATER_m1\n",
      "CYTOCHROME_C_OXIDASE_RXN_mi1\t4.0 Cytochromes_C_Reduced_mi1 + OXYGEN_MOLECULE_m1 + 8.0 PROTON_m1 --> 4.0 Cytochromes_C_Oxidized_mi1 + 4.0 PROTON_i1 + 2.0 WATER_m1\n",
      "NADPPHOSPHAT_RXN_c1\tNADP_c1 + 0.3 PROTON_c1 + WATER_c1 --> NAD_c1 + 0.7 Pi_c1 + 0.3 aPi_c1\n"
     ]
    }
   ],
   "source": [
    "m.GetReactions(['CYTOCHROME_C_OXIDASE_RXN_mi1', 'NADPPHOSPHAT_RXN_c1'])\n",
    "m.GetMetabolites(['Beta_3_hydroxybutyryl_ACPs_p1','NAD_x1','Beta_3_hydroxybutyryl_ACPs_p2',\n",
    " 'NAD_x2',])\n",
    "m.GetGenes(['SOLYC11G066390.1',\n",
    " 'SOLYC06G048420.1',\n",
    " 'SOLYC02G021140.2',\n",
    " 'SOLYC08G079830.2',\n",
    " 'SOLYC03G062890.2',\n",
    " 'SOLYC06G048410.2'])\n",
    "m.GetGeneName('SOLYC11G066390.1')\n",
    "m.GetMetaboliteNames(['Beta_3_hydroxybutyryl_ACPs_p1','NAD_x1','Beta_3_hydroxybutyryl_ACPs_p2',\n",
    " 'NAD_x2'])\n",
    "m.GetGeneNames(['SOLYC11G066390.1',\n",
    " 'SOLYC06G048420.1',\n",
    " 'SOLYC02G021140.2',\n",
    " 'SOLYC08G079830.2',\n",
    " 'SOLYC03G062890.2',\n",
    " 'SOLYC06G048410.2'])\n",
    "m.PrintReaction('CYTOCHROME_C_OXIDASE_RXN_mi1')\n",
    "m.PrintReactions(['CYTOCHROME_C_OXIDASE_RXN_mi1', 'NADPPHOSPHAT_RXN_c1'])\n"
   ]
  },
  {
   "cell_type": "code",
   "execution_count": 11,
   "metadata": {
    "scrolled": false
   },
   "outputs": [
    {
     "name": "stdout",
     "output_type": "stream",
     "text": [
      "Copy: 1\n",
      "AssignMetabolitesNeutralFormula: 1\n",
      "ReactionsToGenesAssociations: 1\n",
      "GenesToReactionsAssociations: 2\n",
      "ReactionsToSubsystemsAssociations: 4\n",
      "SubsystemsToReactionsAssociations: 1\n",
      "GenesToSubsystemsAssociations: 3\n",
      "SubsystemsToGenesAssociations: 1\n",
      "Isozymes: 1\n",
      "SplitRev: 2\n",
      "Optimal: 3\n",
      "GetStatusMsg: 3\n",
      "SetAllRev: 1\n",
      "GetObjVal: 2\n",
      "GetObjDirec: 3\n",
      "GetState: 2\n",
      "NoDeadEndModel: 2\n",
      "ChokepointReactions: 2\n"
     ]
    }
   ],
   "source": [
    "#from model.py\n",
    "thefile = enumerate(open(gparentdir + \"/scobra/classes/model.py\"))\n",
    "flist_self_only = gaf.get_functions_self_only(thefile)[0]\n",
    "flist_more = gaf.get_functions_self_only(thefile)[1]\n",
    "for i in flist_self_only: \n",
    "    count = 0 \n",
    "    for j in open(gparentdir + \"/scobra/classes/model.py\"): \n",
    "        if i in j: \n",
    "            count += 1\n",
    "    if count < 5: \n",
    "        print(\"%s: %d\" % (i, count)) \n"
   ]
  },
  {
   "cell_type": "code",
   "execution_count": 12,
   "metadata": {
    "scrolled": false
   },
   "outputs": [
    {
     "name": "stdout",
     "output_type": "stream",
     "text": [
      "executing Copy\n",
      "executing solution\n",
      "executing AssignMetabolitesNeutralFormula\n",
      "executing ReactionsToGenesAssociations\n",
      "executing GenesToReactionsAssociations\n",
      "executing ReactionsToSubsystemsAssociations\n",
      "executing SubsystemsToReactionsAssociations\n",
      "executing GenesToSubsystemsAssociations\n",
      "executing SubsystemsToGenesAssociations\n",
      "executing Isozymes\n",
      "executing SplitRev\n",
      "executing Optimal\n",
      "executing GetStatusMsg\n",
      "executing SetAllRev\n",
      "executing GetObjVal\n",
      "executing GetObjDirec\n",
      "executing GetState\n"
     ]
    }
   ],
   "source": [
    "flist_self_only.remove('NoDeadEndModel')\n",
    "flist_self_only.remove('ChokepointReactions')\n",
    "for i in flist_self_only: \n",
    "    print(\"executing \" + i)\n",
    "    try:\n",
    "        exec(\"m.\" + i + \"()\")\n",
    "    except TypeError: \n",
    "        exec(\"m.\" + i)\n",
    "    "
   ]
  },
  {
   "cell_type": "code",
   "execution_count": 13,
   "metadata": {},
   "outputs": [
    {
     "name": "stderr",
     "output_type": "stream",
     "text": [
      "cobra/core/reaction.py:394 \u001b[1;31mUserWarning\u001b[0m: malformed gene_reaction_rule '(  )' for <Reaction HEXOKINASE_RXN_MANNOSE_c2 at 0x7ff0bc77d110>\n",
      "cobra/core/reaction.py:394 \u001b[1;31mUserWarning\u001b[0m: malformed gene_reaction_rule '(  )' for <Reaction HEXOKINASE_RXN_MANNOSE_c1 at 0x7ff0bc77d910>\n"
     ]
    },
    {
     "name": "stdout",
     "output_type": "stream",
     "text": [
      "executing __init__\n",
      "executing WriteModel\n",
      "executing WriteFile\n",
      "executing ToFile\n",
      "executing SubModel\n",
      "executing DuplicateModel\n",
      "executing MergeWithModel\n",
      "executing GetReaction\n",
      "executing GetMetabolite\n",
      "executing GetGene\n",
      "executing GetReactions\n",
      "executing GetMetabolites\n",
      "executing GetGenes\n",
      "executing GetReactionName\n",
      "executing GetMetaboliteName\n",
      "executing GetGeneName\n",
      "executing GetReactionNames\n",
      "executing GetMetaboliteNames\n",
      "executing GetGeneNames\n",
      "executing Reactions\n",
      "executing Metabolites\n",
      "executing Genes\n",
      "executing InvolvedWith\n",
      "executing PrintReaction\n",
      "executing PrintReactions\n",
      "executing NumberOfAssociations\n",
      "executing MergeRev\n",
      "executing SetBounds\n",
      "executing Solve\n",
      "optimal\n",
      "executing MinFluxSolve\n",
      "optimal\n",
      "executing AdjustedMinFluxSolve\n",
      "optimal\n",
      "executing MinReactionsSolve\n",
      "optimal\n",
      "executing SetObjDirec\n",
      "executing SetObjective\n",
      "executing SetQuadraticObjective\n",
      "executing ZeroObjective\n",
      "executing GetObjective\n",
      "executing GetConstraints\n",
      "executing GetConstraint\n",
      "executing SetConstraints\n",
      "executing SetConstraint\n",
      "executing SetFixedFlux\n",
      "executing SetState\n",
      "executing SetSumReacsConstraint\n",
      "executing DelSumReacsConstraint\n",
      "executing SetObjAsConstraint\n",
      "executing DelObjAsConstraint\n",
      "executing SetReacsFixedRatio\n",
      "executing DelReacsFixedRatio\n",
      "executing AddMetabolite\n",
      "executing DelMetabolite\n",
      "executing DelMetabolites\n",
      "executing SubstituteMetabolite\n",
      "executing AddReaction\n",
      "executing DelReaction\n",
      "executing DelReactions\n",
      "executing ChangeReactionStoichiometry\n",
      "executing GetSol\n",
      "executing SolsDiff\n",
      "executing NetStoi\n",
      "executing SetMetsBounds\n",
      "executing SetMetBounds\n",
      "executing ProduceMetabolites\n",
      "executing FVA\n",
      "yes\n",
      "executing AllFluxRange\n",
      "executing FluxRange\n",
      "executing InternalCycles\n",
      "executing FCA\n",
      "executing Pareto\n",
      "executing ConstraintScan\n",
      "executing RatioScan\n",
      "executing Constraint2DScan\n",
      "executing ConstraintRandomMinFluxScan\n",
      "executing RatioRandomMinFluxScan\n",
      "executing WeightingScan\n",
      "executing MatchFlux\n",
      "executing MatchRatio\n",
      "executing MatchScan\n",
      "executing PhasePlane\n",
      "executing LinearMOMA\n",
      "executing MinDiffFromFlux\n",
      "executing CleanUpTempVar\n",
      "executing MOMA\n",
      "executing ROOM\n",
      "executing RandomMinFlux\n",
      "executing FluxRangeDiff\n",
      "executing FluxDiffDirec\n",
      "executing FluxRangeOverlap\n",
      "executing FluxSum\n",
      "executing ProducedBy\n",
      "executing ConsumedBy\n",
      "executing DeadEndMetabolites\n",
      "executing PeripheralMetabolites\n",
      "executing GetNeighbours\n",
      "executing GetNeighboursAsDic\n",
      "executing Degree\n",
      "executing DegreeDist\n",
      "executing MetabolitesDegree\n",
      "executing ReactionsDegree\n",
      "executing SingleDeletion\n",
      "executing EssentialGenes\n",
      "executing EssentialReactions\n",
      "executing DoubleDeletion\n",
      "executing WriteNetwork\n",
      "executing WriteAttributes\n",
      "executing AddProtonsToMets\n",
      "executing AddProtonsToMet\n",
      "executing ImbalanceReactions\n",
      "executing CheckReactionBalance\n"
     ]
    }
   ],
   "source": [
    "import scobra\n",
    "import get_all_functions as gaf\n",
    "import re\n",
    "n = scobra.Model(\"sample/Supplemental-Data-S1_Core-Leaf-Model.xml\")\n",
    "m = scobra.model(n)\n",
    "thefile = enumerate(open(gparentdir + \"/scobra/classes/model.py\"))\n",
    "flist_more = gaf.get_functions_self_only(thefile)[1]\n",
    "errors = []\n",
    "problematic = ['PrintSol', 'BlockedMetabolites', 'FluxVariability', 'GeometricSol', 'DeadMetabolites', 'MOMA2mutant']\n",
    "for i in flist_more:\n",
    "    for problem in problematic: \n",
    "        if problem in i:\n",
    "            break\n",
    "    else: \n",
    "        print(\"executing \" + i)\n",
    "        try:\n",
    "            exec(\"m.\" + i + \"()\")\n",
    "        except (TypeError, NameError), e: \n",
    "            errors.append(i)\n",
    "errors = errors + problematic"
   ]
  },
  {
   "cell_type": "code",
   "execution_count": 14,
   "metadata": {},
   "outputs": [
    {
     "name": "stderr",
     "output_type": "stream",
     "text": [
      "cobra/core/reaction.py:394 \u001b[1;31mUserWarning\u001b[0m: malformed gene_reaction_rule '(  )' for <Reaction HEXOKINASE_RXN_MANNOSE_c2 at 0x7ff0be3b8d10>\n",
      "cobra/core/reaction.py:394 \u001b[1;31mUserWarning\u001b[0m: malformed gene_reaction_rule '(  )' for <Reaction HEXOKINASE_RXN_MANNOSE_c1 at 0x7ff0be3b8d50>\n"
     ]
    }
   ],
   "source": [
    "n = scobra.Model(\"sample/Supplemental-Data-S1_Core-Leaf-Model.xml\")\n",
    "m = scobra.model(n)\n",
    "m.SetObjective('H2O_ec1')\n",
    "m.SetQuadraticObjective('H2O_ec1')\n",
    "m.GetConstraint('H2O_ec1')\n",
    "m.SetConstraints({'H2O_ec1':(0,100)})\n",
    "m.SetConstraint('H2O_ec1', 0, 100)\n",
    "m.SetFixedFlux({'H2O_ec1':100})\n",
    "m.SetState(m.GetState())"
   ]
  },
  {
   "cell_type": "code",
   "execution_count": 15,
   "metadata": {},
   "outputs": [],
   "source": [
    "m.SetReacsFixedRatio({'H2O_ec1': 1,'ORNCARBAMTRANSFER_RXN_p1':9})"
   ]
  },
  {
   "cell_type": "code",
   "execution_count": 16,
   "metadata": {
    "scrolled": true
   },
   "outputs": [],
   "source": [
    "m.DelReaction('Pi_PROTON_mc2')\n",
    "m.AddReaction('Pi_PROTON_mc2', {'PROTON_m2': -1, 'Pi_m2': -1, 'PROTON_c2': 0.7, 'Pi_c2': 0.7, 'aPi_c2': 0.3})\n",
    "m.DelMetabolite('pALA_b2')\n",
    "m.AddMetabolite('pALA_b2')\n",
    "m.SubstituteMetabolite('pALA_b2', 'pALA_b1')\n",
    "m.ChangeReactionStoichiometry('Pi_PROTON_mc2', {'PROTON_m2': -1, 'Pi_m2': -1, 'PROTON_c2': 0.7, 'Pi_c2': 0.7, 'aPi_c2': 1})\n",
    "m.SetMetBounds('pALA_b2')"
   ]
  },
  {
   "cell_type": "code",
   "execution_count": 17,
   "metadata": {
    "scrolled": true
   },
   "outputs": [
    {
     "name": "stderr",
     "output_type": "stream",
     "text": [
      "cobra/core/reaction.py:394 \u001b[1;31mUserWarning\u001b[0m: malformed gene_reaction_rule '(  )' for <Reaction HEXOKINASE_RXN_MANNOSE_c2 at 0x7ff0bc4e9390>\n",
      "cobra/core/reaction.py:394 \u001b[1;31mUserWarning\u001b[0m: malformed gene_reaction_rule '(  )' for <Reaction HEXOKINASE_RXN_MANNOSE_c1 at 0x7ff0bc4e9b90>\n"
     ]
    }
   ],
   "source": [
    "import scobra\n",
    "import get_all_functions as gaf\n",
    "import re\n",
    "n = scobra.Model(\"sample/Supplemental-Data-S1_Core-Leaf-Model.xml\")\n",
    "m = scobra.model(n)"
   ]
  },
  {
   "cell_type": "code",
   "execution_count": 18,
   "metadata": {},
   "outputs": [
    {
     "data": {
      "text/plain": [
       "{<Reaction Biomass_tx2 at 0x7ff0bd74ccd0>: -0.456109633051}"
      ]
     },
     "execution_count": 18,
     "metadata": {},
     "output_type": "execute_result"
    }
   ],
   "source": [
    "m.ProducedBy('pALA_b2')\n",
    "m.ConsumedBy('pALA_b2')"
   ]
  },
  {
   "cell_type": "code",
   "execution_count": 19,
   "metadata": {},
   "outputs": [
    {
     "data": {
      "text/plain": [
       "2"
      ]
     },
     "execution_count": 19,
     "metadata": {},
     "output_type": "execute_result"
    }
   ],
   "source": [
    "m.GetNeighbours('pALA_b2')\n",
    "m.GetNeighboursAsDic('pALA_b2')\n",
    "m.Degree('pALA_b2')\n"
   ]
  },
  {
   "cell_type": "code",
   "execution_count": 20,
   "metadata": {},
   "outputs": [],
   "source": [
    "m.WriteNetwork(currentdir + '/misc/TestNetwork')\n",
    "m.WriteAttributes(currentdir + '/misc/TestAttributes')"
   ]
  },
  {
   "cell_type": "code",
   "execution_count": 21,
   "metadata": {},
   "outputs": [],
   "source": [
    "m.AddProtonsToMet('1_KETO_2_METHYLVALERATE_p2', 'PROTON_e1', 3)\n",
    "m.AddProtonsToMets({'1_KETO_2_METHYLVALERATE_p2': 2,'D_ERYTHRO_IMIDAZOLE_GLYCEROL_P_p1': 3}, 'PROTON_e1')"
   ]
  },
  {
   "cell_type": "code",
   "execution_count": 22,
   "metadata": {
    "scrolled": true
   },
   "outputs": [
    {
     "data": {
      "text/plain": [
       "{'A': 1, 'H': -1, 'N': 1}"
      ]
     },
     "execution_count": 22,
     "metadata": {},
     "output_type": "execute_result"
    }
   ],
   "source": [
    "m.CheckReactionBalance('PGLYCDEHYDROG_RXN_p1')"
   ]
  },
  {
   "cell_type": "code",
   "execution_count": 5,
   "metadata": {},
   "outputs": [],
   "source": [
    "import os, sys, inspect\n",
    "currentdir = os.path.dirname(os.path.abspath(inspect.getfile(inspect.currentframe())))\n",
    "gparentdir = os.path.dirname(os.path.dirname(currentdir))\n",
    "sys.path.insert(0, gparentdir)\n",
    "import scobra\n",
    "import get_all_functions as gaf\n",
    "import re"
   ]
  },
  {
   "cell_type": "code",
   "execution_count": 8,
   "metadata": {
    "scrolled": true
   },
   "outputs": [
    {
     "name": "stderr",
     "output_type": "stream",
     "text": [
      "cobra/core/reaction.py:394 \u001b[1;31mUserWarning\u001b[0m: malformed gene_reaction_rule '(  )' for <Reaction HEXOKINASE_RXN_MANNOSE_c at 0x7fa09bd8e990>\n"
     ]
    },
    {
     "name": "stdout",
     "output_type": "stream",
     "text": [
      "optimal\n",
      "Photon_tx: 1000.0\n",
      "Photon_ep: 1000.0\n",
      "RXN490_3650_p: 500.0\n",
      "1_PERIOD_18_PERIOD_1_PERIOD_2_RXN_p: 250.0\n",
      "PLASTOQUINOL_PLASTOCYANIN_REDUCTASE_RXN_p: 250.0\n",
      "PHOSGLYPHOS_RXN_p: 211.874180865\n",
      "1_PERIOD_2_PERIOD_1_PERIOD_13_RXN_p: 211.874180865\n",
      "PSII_RXN_p: 125.0\n",
      "H2O_mc: 122.50327654\n",
      "O2_pc: 120.0\n",
      "Plastidial_ATP_Synthase_p: 107.142857143\n",
      "RIBULOSE_BISPHOSPHATE_CARBOXYLASE_RXN_p: 95.9370904325\n",
      "PHOSPHORIBULOKINASE_RXN_p: 95.9370904325\n",
      "CO2_tx: 95.9370904325\n",
      "CO2_ec: 95.9370904325\n",
      "ATPase_tx: 90.0\n",
      "H2O_tx: 87.9423328965\n",
      "H2O_ec: 87.9423328965\n",
      "ATP_ADP_mc: 84.377457405\n",
      "TRIOSEPISOMERIZATION_RXN_p: 79.9475753604\n",
      "SEDOHEPTULOSE_BISPHOSPHATASE_RXN_p: 31.9790301442\n",
      "SEDOBISALDOL_RXN_p: 31.9790301442\n",
      "RIB5PISOM_RXN_p: 31.9790301442\n",
      "F16BDEPHOS_RXN_p: 31.9790301442\n",
      "1TRANSKETO_RXN_p: 31.9790301442\n",
      "GAP_Pi_pc: 31.9790301442\n",
      "Mitochondrial_ATP_Synthase_m: 28.125819135\n",
      "1_PERIOD_10_PERIOD_2_PERIOD_2_RXN_mi: 28.125819135\n",
      "OAA_MAL_mc: 28.125819135\n",
      "NADH_DEHYDROG_A_RXN_mi: 28.125819135\n",
      "MALATE_DEH_RXN_m: 28.125819135\n",
      "MALATE_DEHYDROGENASE_NADPs_RXN_p: 28.125819135\n",
      "1_PERIOD_2_PERIOD_1_PERIOD_9_RXN_c: 20.0\n",
      "F16BDEPHOS_RXN_c: 15.9895150721\n",
      "DHAP_3PGA_pc: 15.9895150721\n",
      "CYTOCHROME_C_OXIDASE_RXN_mi: 14.0629095675\n",
      "ATP_ADP_Pi_pc: 13.617300131\n",
      "CO2_mc: 10.0\n",
      "ISOCITDEH_RXN_m: 10.0\n",
      "NADPHoxp_tx: 10.0\n",
      "NADPHoxm_tx: 10.0\n",
      "NADPHoxc_tx: 10.0\n",
      "2KG_ISOCITRATE_mc: 10.0\n",
      "unlProtHYPO_c: 7.99475753604\n",
      "UDPKIN_RXN_c: 7.99475753604\n",
      "SUCROSE_PHOSPHATE_SYNTHASE_RXN_c: 7.99475753604\n",
      "SUCROSE_PHOSPHATASE_RXN_c: 7.99475753604\n",
      "H_tx: 7.99475753604\n",
      "GLUC1PURIDYLTRANS_RXN_c: 7.99475753604\n",
      "INORGPYROPHOSPHAT_RXN_c: 7.99475753604\n",
      "GAP_3PGA_pc: 4.01048492792\n"
     ]
    }
   ],
   "source": [
    "new=scobra.Model('sample/Diel_Leaf_Model_cleaned.xls')\n",
    "new= scobra.model(new)\n",
    "#Maximize Sucrose output (objective)\n",
    "#vary light (scan)\n",
    "#allow CO2 and O2, even Proton and Water\n",
    "#Output maintenance ATP and NADPHox\n",
    "tx_and_biomass = []\n",
    "for i in new.Reactions(): \n",
    "    if '_tx' in i:\n",
    "        tx_and_biomass.append(re.search('(.*)_tx', i).group())\n",
    "    elif '_biomass' in i: \n",
    "        tx_and_biomass.append(re.search('(.*)_biomass', i).group())\n",
    "#tx_and_biomass.append(re.search('(.*)_tx', 'slkdfjd_tx').group())\n",
    "tx_and_biomass\n",
    "\n",
    "necessary_rxn= ['ATPase_tx', 'CO2_tx', 'Photon_tx', 'O2_tx','H2O_tx', 'H_tx','NADPHoxc_tx','NADPHoxm_tx','NADPHoxp_tx','Sucrose_tx']\n",
    "unecessary_rxn= list(set(tx_and_biomass) - set(necessary_rxn))\n",
    "\n",
    "#blocking _tx and _biomass reactions that are not considered\n",
    "for i in unecessary_rxn: \n",
    "    new.GetReaction(i).lower_bound = 0.0\n",
    "    new.GetReaction(i).upper_bound = 0.0\n",
    "\n",
    "#freeing _tx and _biomass reactions that are considered\n",
    "for i in necessary_rxn: \n",
    "    if new.GetReaction(i).lower_bound == 0.0:\n",
    "        new.GetReaction(i).upper_bound == 1000.0\n",
    "    else: \n",
    "        new.GetReaction(i).lower_bound == 1000.0\n",
    "        new.GetReaction(i).upper_bound == 1000.0\n",
    "\n",
    "#setting constraints\n",
    "new.SetConstraint('ATPase_tx', 90, 90)\n",
    "new.SetConstraint('NADPHoxc_tx', 10, 10)\n",
    "new.SetConstraint('NADPHoxm_tx', 10, 10)\n",
    "new.SetConstraint('NADPHoxp_tx', 10, 10)\n",
    "#setting constraints for sucrose entering and exiting cytoplasm\n",
    "new.SetConstraint('Sucrose_ec', -1000, 1000)\n",
    "\n",
    "#setting objectives\n",
    "new.SetObjective('Sucrose_tx')\n",
    "new.SetObjDirec('Min')\n",
    "\n",
    "#running scans\n",
    "new.MinFluxSolve() \n",
    "new.PrintSol()\n",
    "sol1 = new.solution"
   ]
  },
  {
   "cell_type": "code",
   "execution_count": 9,
   "metadata": {},
   "outputs": [
    {
     "data": {
      "text/plain": [
       "51"
      ]
     },
     "execution_count": 9,
     "metadata": {},
     "output_type": "execute_result"
    }
   ],
   "source": [
    "lst_submodel = [new.GetReaction(x) for x in new.GetSol()]\n",
    "testm = new.SubModel(lst_submodel)\n",
    "len(testm.Reactions())"
   ]
  },
  {
   "cell_type": "code",
   "execution_count": 6,
   "metadata": {},
   "outputs": [
    {
     "name": "stdout",
     "output_type": "stream",
     "text": [
      "optimal\n"
     ]
    }
   ],
   "source": [
    "new.SetConstraint('Photon_tx', 300, 300)\n",
    "new.Solve()\n",
    "sol2 = new.solution"
   ]
  },
  {
   "cell_type": "code",
   "execution_count": 26,
   "metadata": {},
   "outputs": [
    {
     "data": {
      "text/plain": [
       "'optimal'"
      ]
     },
     "execution_count": 26,
     "metadata": {},
     "output_type": "execute_result"
    }
   ],
   "source": [
    "new.solution.status"
   ]
  },
  {
   "cell_type": "code",
   "execution_count": 27,
   "metadata": {},
   "outputs": [
    {
     "data": {
      "text/plain": [
       "{'1TRANSKETO_RXN_p': 27.522935779816503,\n",
       " '1_PERIOD_10_PERIOD_2_PERIOD_2_RXN_mi': 9.8623853211009553,\n",
       " '1_PERIOD_18_PERIOD_1_PERIOD_2_RXN_p': 174.99999999999991,\n",
       " '1_PERIOD_2_PERIOD_1_PERIOD_13_RXN_p': 165.13761467889913,\n",
       " '2TRANSKETO_RXN_p': -27.522935779816507,\n",
       " 'ADENYL_KIN_RXN_c': -14.793577981651328,\n",
       " 'ADENYL_KIN_RXN_m': 14.793577981651438,\n",
       " 'ATP_ADP_Pi_pc': -22.706422018348754,\n",
       " 'ATP_AMP_mc': 14.793577981651438,\n",
       " 'CO2_ec': 82.568807339449606,\n",
       " 'CO2_pc': -82.568807339449606,\n",
       " 'CO2_tx': 82.568807339449606,\n",
       " 'CYTOCHROME_C_OXIDASE_RXN_mi': 4.9311926605504777,\n",
       " 'DHAP_3PGA_pc': 13.761467889908401,\n",
       " 'F16ALDOLASE_RXN_c': -13.761467889908385,\n",
       " 'F16BDEPHOS_RXN_c': 13.761467889908385,\n",
       " 'GAP_3PGA_pc': -13.761467889908507,\n",
       " 'GAP_Pi_pc': 27.522935779816805,\n",
       " 'GLUC1PURIDYLTRANS_RXN_c': 6.8807339449541223,\n",
       " 'H2O_ec': 75.688073394495476,\n",
       " 'H2O_mc': 39.44954128440375,\n",
       " 'H2O_pc': -87.61467889908252,\n",
       " 'H2O_tx': 75.68807339449549,\n",
       " 'H_pc': 22.706422018348867,\n",
       " 'H_tx': 6.8807339449541223,\n",
       " 'INORGPYROPHOSPHAT_RXN_c': 6.8807339449541223,\n",
       " 'MALATE_DEHYDROGENASE_NADPs_RXN_p': 9.8623853211008949,\n",
       " 'MALATE_DEH_RXN_m': 9.8623853211009234,\n",
       " 'Mitochondrial_ATP_Synthase_m': 9.8623853211009553,\n",
       " 'NADH_DEHYDROG_A_RXN_mi': 9.8623853211009518,\n",
       " 'O2_ec': -82.568807339449535,\n",
       " 'O2_mc': -4.9311926605504759,\n",
       " 'O2_pc': 87.499999999999972,\n",
       " 'O2_tx': -82.568807339449535,\n",
       " 'OAA_MAL_mc': 9.8623853211009198,\n",
       " 'OAA_MAL_pc': -9.8623853211008985,\n",
       " 'PGLUCISOM_RXN_c': -6.8807339449542626,\n",
       " 'PHOSGLYPHOS_RXN_p': 165.13761467889904,\n",
       " 'PHOSPHOGLUCMUT_RXN_c': -6.8807339449541223,\n",
       " 'PHOSPHORIBULOKINASE_RXN_p': 82.568807339449563,\n",
       " 'PLASTOQUINOL_PLASTOCYANIN_REDUCTASE_RXN_p': 174.99999999999991,\n",
       " 'PSII_RXN_p': 87.499999999999957,\n",
       " 'Photon_ep': 699.99999999999966,\n",
       " 'Photon_tx': 700.0,\n",
       " 'Pi_PROTON_mc': -29.587155963302891,\n",
       " 'Plastidial_ATP_Synthase_p': 74.999999999999972,\n",
       " 'RIB5PISOM_RXN_p': 27.522935779816478,\n",
       " 'RIBULOSE_BISPHOSPHATE_CARBOXYLASE_RXN_p': 82.568807339449563,\n",
       " 'RIBULP3EPIM_RXN_p': -55.045871559633042,\n",
       " 'RXN490_3650_p': 349.99999999999983,\n",
       " 'SEDOBISALDOL_RXN_p': 55.045871559632914,\n",
       " 'SEDOHEPTULOSE_BISPHOSPHATASE_RXN_p': 55.045871559632914,\n",
       " 'SUCROSE_PHOSPHATASE_RXN_c': 6.8807339449541223,\n",
       " 'SUCROSE_PHOSPHATE_SYNTHASE_RXN_c': 6.8807339449541223,\n",
       " 'Sucrose_ec': -6.8807339449541223,\n",
       " 'Sucrose_tx': -6.8807339449541223,\n",
       " 'TRANSALDOL_RXN_p': 27.522935779816414,\n",
       " 'TRIOSEPISOMERIZATION_RXN_p': 68.807339449541317,\n",
       " 'UDPKIN_RXN_c': 6.8807339449541223,\n",
       " 'unlProtHYPO_c': 6.8807339449539953}"
      ]
     },
     "execution_count": 27,
     "metadata": {},
     "output_type": "execute_result"
    }
   ],
   "source": [
    "new.SolsDiff(sol1.fluxes, sol2.fluxes)"
   ]
  },
  {
   "cell_type": "code",
   "execution_count": null,
   "metadata": {},
   "outputs": [],
   "source": [
    "print('Test Completed')"
   ]
  }
 ],
 "metadata": {
  "kernelspec": {
   "display_name": "Python 2",
   "language": "python",
   "name": "python2"
  },
  "language_info": {
   "codemirror_mode": {
    "name": "ipython",
    "version": 2
   },
   "file_extension": ".py",
   "mimetype": "text/x-python",
   "name": "python",
   "nbconvert_exporter": "python",
   "pygments_lexer": "ipython2",
   "version": "2.7.12"
  }
 },
 "nbformat": 4,
 "nbformat_minor": 2
}

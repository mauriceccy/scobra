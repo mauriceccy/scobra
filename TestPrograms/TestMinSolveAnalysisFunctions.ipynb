{
 "cells": [
  {
   "cell_type": "code",
   "execution_count": 1,
   "metadata": {},
   "outputs": [],
   "source": [
    "import os, sys, inspect\n",
    "currentdir = os.path.dirname(os.path.abspath(inspect.getfile(inspect.currentframe())))\n",
    "gparentdir = os.path.dirname(os.path.dirname(currentdir))\n",
    "sys.path.insert(0, gparentdir)\n",
    "import scobra\n",
    "import get_all_functions as gaf\n",
    "import re\n",
    "import scobra.analysis.MinSolve as ms \n",
    "def freshmodel():     \n",
    "    new = scobra.Model(\"sample/Diel_Leaf_Model_cleaned.xls\")\n",
    "    #new = scobra.model(n)\n",
    "\n",
    "    #new=scobra.Model('models/Diel_Leaf_Model_cleaned.xls')\n",
    "\n",
    "    #Maximize Sucrose output (objective)\n",
    "    #vary light (scan)\n",
    "    #allow CO2 and O2, even Proton and Water\n",
    "    #Output maintenance ATP and NADPHox\n",
    "    tx_and_biomass = []\n",
    "    for i in new.Reactions(): \n",
    "        if '_tx' in i:\n",
    "            tx_and_biomass.append(re.search('(.*)_tx', i).group())\n",
    "        elif '_biomass' in i: \n",
    "            tx_and_biomass.append(re.search('(.*)_biomass', i).group())\n",
    "    #tx_and_biomass.append(re.search('(.*)_tx', 'slkdfjd_tx').group())\n",
    "    tx_and_biomass\n",
    "\n",
    "    necessary_rxn= ['ATPase_tx', 'CO2_tx', 'Photon_tx', 'O2_tx','H2O_tx', 'H_tx','NADPHoxc_tx','NADPHoxm_tx','NADPHoxp_tx','Sucrose_tx']\n",
    "    unecessary_rxn= list(set(tx_and_biomass) - set(necessary_rxn))\n",
    "\n",
    "    #blocking _tx and _biomass reactions that are not considered\n",
    "    for i in unecessary_rxn: \n",
    "        new.GetReaction(i).lower_bound = 0.0\n",
    "        new.GetReaction(i).upper_bound = 0.0\n",
    "\n",
    "    #freeing _tx and _biomass reactions that are considered\n",
    "    for i in necessary_rxn: \n",
    "        if new.GetReaction(i).lower_bound == 0.0:\n",
    "            new.GetReaction(i).upper_bound == 1000.0\n",
    "        else: \n",
    "            new.GetReaction(i).lower_bound == 1000.0\n",
    "            new.GetReaction(i).upper_bound == 1000.0\n",
    "\n",
    "    #setting constraints\n",
    "    new.SetConstraint('ATPase_tx', 90, 90)\n",
    "    new.SetConstraint('NADPHoxc_tx', 10, 10)\n",
    "    new.SetConstraint('NADPHoxm_tx', 10, 10)\n",
    "    new.SetConstraint('NADPHoxp_tx', 10, 10)\n",
    "    #setting constraints for sucrose entering and exiting cytoplasm\n",
    "    new.SetConstraint('Sucrose_ec', -1000, 1000)\n",
    "\n",
    "    #setting objectives\n",
    "    new.SetObjective('Sucrose_tx')\n",
    "    new.SetObjDirec('Min')\n",
    "\n",
    "    #setting constraint and running scan\n",
    "    \"\"\"result = {}\n",
    "    for i in range(0,1000,20):\n",
    "        new.SetConstraint('Photon_tx', i, i)\n",
    "        new.Solve()\n",
    "        x = new.GetSol()['Sucrose_tx']\n",
    "        result[i] = x\n",
    "    \"\"\"\n",
    "    #new.Solve() \n",
    "    #new.MinFluxSolve()\n",
    "\n",
    "    #new.Solve()\n",
    "    return new"
   ]
  },
  {
   "cell_type": "code",
   "execution_count": 2,
   "metadata": {},
   "outputs": [
    {
     "name": "stderr",
     "output_type": "stream",
     "text": [
      "cobra/core/reaction.py:394 \u001b[1;31mUserWarning\u001b[0m: malformed gene_reaction_rule '(  )' for <Reaction HEXOKINASE_RXN_MANNOSE_c at 0x7f99e2bf2b50>\n"
     ]
    },
    {
     "name": "stdout",
     "output_type": "stream",
     "text": [
      "optimal\n"
     ]
    }
   ],
   "source": [
    "new = freshmodel()\n",
    "ms.MinFluxSolve(new)"
   ]
  },
  {
   "cell_type": "code",
   "execution_count": 5,
   "metadata": {},
   "outputs": [
    {
     "name": "stdout",
     "output_type": "stream",
     "text": [
      "Objective value =  -7\n",
      "Modified 'MinFlux_Objective' bounds =  (-9, -5)\n",
      "optimal\n"
     ]
    }
   ],
   "source": [
    "new =freshmodel()\n",
    "state = new.GetState()\n",
    "objective = new.GetObjective()\n",
    "objval = -7\n",
    "ms.RevSolve(new, objective, objval, 2, \"this\")"
   ]
  },
  {
   "cell_type": "code",
   "execution_count": 2,
   "metadata": {},
   "outputs": [
    {
     "name": "stderr",
     "output_type": "stream",
     "text": [
      "cobra/core/reaction.py:394 \u001b[1;31mUserWarning\u001b[0m: malformed gene_reaction_rule '(  )' for <Reaction HEXOKINASE_RXN_MANNOSE_c at 0x7f123c10b710>\n"
     ]
    },
    {
     "name": "stdout",
     "output_type": "stream",
     "text": [
      "optimal\n"
     ]
    }
   ],
   "source": [
    "new = freshmodel()\n",
    "ms.AdjustedMinFluxSolve(new)"
   ]
  },
  {
   "cell_type": "code",
   "execution_count": 2,
   "metadata": {},
   "outputs": [
    {
     "name": "stderr",
     "output_type": "stream",
     "text": [
      "cobra/core/reaction.py:394 \u001b[1;31mUserWarning\u001b[0m: malformed gene_reaction_rule '(  )' for <Reaction HEXOKINASE_RXN_MANNOSE_c at 0x7fcfa0dd3710>\n"
     ]
    },
    {
     "name": "stdout",
     "output_type": "stream",
     "text": [
      "optimal\n"
     ]
    }
   ],
   "source": [
    "new = freshmodel()\n",
    "ms.MinReactionsSolve(new)"
   ]
  },
  {
   "cell_type": "code",
   "execution_count": null,
   "metadata": {},
   "outputs": [],
   "source": [
    "print('Test Completed')"
   ]
  }
 ],
 "metadata": {
  "kernelspec": {
   "display_name": "Python 2",
   "language": "python",
   "name": "python2"
  },
  "language_info": {
   "codemirror_mode": {
    "name": "ipython",
    "version": 2
   },
   "file_extension": ".py",
   "mimetype": "text/x-python",
   "name": "python",
   "nbconvert_exporter": "python",
   "pygments_lexer": "ipython2",
   "version": "2.7.12"
  }
 },
 "nbformat": 4,
 "nbformat_minor": 2
}

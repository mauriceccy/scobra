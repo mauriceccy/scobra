{
 "cells": [
  {
   "cell_type": "code",
   "execution_count": 1,
   "metadata": {},
   "outputs": [
    {
     "name": "stderr",
     "output_type": "stream",
     "text": [
      "cobra/core/reaction.py:394 \u001b[1;31mUserWarning\u001b[0m: malformed gene_reaction_rule '(  )' for <Reaction HEXOKINASE_RXN_MANNOSE_c2 at 0x7f032def8590>\n",
      "cobra/core/reaction.py:394 \u001b[1;31mUserWarning\u001b[0m: malformed gene_reaction_rule '(  )' for <Reaction HEXOKINASE_RXN_MANNOSE_c1 at 0x7f032def8d90>\n"
     ]
    }
   ],
   "source": [
    "import os, sys, inspect\n",
    "currentdir = os.path.dirname(os.path.abspath(inspect.getfile(inspect.currentframe())))\n",
    "gparentdir = os.path.dirname(os.path.dirname(currentdir))\n",
    "sys.path.insert(0, gparentdir)\n",
    "import scobra\n",
    "import get_all_functions as gaf\n",
    "import re\n",
    "n = scobra.Model(\"sample/Supplemental-Data-S1_Core-Leaf-Model.xml\")\n",
    "m = scobra.model(n)"
   ]
  },
  {
   "cell_type": "code",
   "execution_count": 20,
   "metadata": {},
   "outputs": [],
   "source": [
    "import scobra.classes.flux as flux\n",
    "import scobra.classes.matrix as matrix\n",
    "import scobra.classes.fca as fca\n",
    "f = flux.flux({'H2O_ec1':1, 'SUPEROX_DISMUT_RXN_c2': 0, 'RXN66_1_c1': 3})\n",
    "mat = matrix.matrix({\"Flux\": f, \"Obj\": f, \"Obj2\": f})\n",
    "path = \"sample/model4a(1).xls\"\n",
    "mat = mat.FromFile(path)\n",
    "fc = fca.fca(mat)"
   ]
  },
  {
   "cell_type": "code",
   "execution_count": 14,
   "metadata": {},
   "outputs": [
    {
     "data": {
      "text/plain": [
       "({}, {}, {'Implied by': {}, 'Implies': {}})"
      ]
     },
     "execution_count": 14,
     "metadata": {},
     "output_type": "execute_result"
    }
   ],
   "source": [
    "fc.Copy()\n",
    "fc.DirectionallyCoupled()\n",
    "fc.PartiallyCoupled()\n",
    "fc.FullyCoupled()\n",
    "fc.SwapSign('+')\n",
    "fc.ReacCoupling('Proteins')"
   ]
  },
  {
   "cell_type": "code",
   "execution_count": 51,
   "metadata": {},
   "outputs": [
    {
     "data": {
      "text/plain": [
       "1"
      ]
     },
     "execution_count": 51,
     "metadata": {},
     "output_type": "execute_result"
    }
   ],
   "source": [
    "fc.RangeType(10, 5, 0.00001, 100)\n",
    "fc.RangeType(1, 100, 1, 1000)"
   ]
  },
  {
   "cell_type": "code",
   "execution_count": null,
   "metadata": {},
   "outputs": [],
   "source": [
    "print('Test Completed')"
   ]
  }
 ],
 "metadata": {
  "kernelspec": {
   "display_name": "Python 2",
   "language": "python",
   "name": "python2"
  },
  "language_info": {
   "codemirror_mode": {
    "name": "ipython",
    "version": 2
   },
   "file_extension": ".py",
   "mimetype": "text/x-python",
   "name": "python",
   "nbconvert_exporter": "python",
   "pygments_lexer": "ipython2",
   "version": "2.7.12"
  }
 },
 "nbformat": 4,
 "nbformat_minor": 2
}

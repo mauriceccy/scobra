{
 "cells": [
  {
   "cell_type": "code",
   "execution_count": 32,
   "metadata": {},
   "outputs": [],
   "source": [
    "import os, sys, inspect\n",
    "currentdir = os.path.dirname(os.path.abspath(inspect.getfile(inspect.currentframe())))\n",
    "gparentdir = os.path.dirname(os.path.dirname(currentdir))\n",
    "sys.path.insert(0, gparentdir)\n",
    "import scobra\n",
    "import timeit\n",
    "start = timeit.default_timer()\n",
    "model_path = os.path.join(currentdir, \"sample\",\"testmodel2.xls\")\n",
    "n = scobra.Model(model_path)\n",
    "m = scobra.model(n)"
   ]
  },
  {
   "cell_type": "code",
   "execution_count": 33,
   "metadata": {},
   "outputs": [
    {
     "data": {
      "text/plain": [
       "['NADP_p',\n",
       " 'Reduced-ferredoxins_p',\n",
       " 'PROTON_p',\n",
       " 'NADPH_p',\n",
       " 'Oxidized-ferredoxins_p',\n",
       " 'XYLULOSE-5-PHOSPHATE_p',\n",
       " 'D-SEDOHEPTULOSE-7-P_p',\n",
       " 'GAP_p',\n",
       " 'RIBOSE-5P_p',\n",
       " 'ERYTHROSE-4P_p',\n",
       " 'FRUCTOSE-6P_p',\n",
       " 'ADP_p',\n",
       " 'ATP_c',\n",
       " 'Pi_c',\n",
       " 'ATP_p',\n",
       " 'ADP_c',\n",
       " 'Pi_p',\n",
       " 'CARBON-DIOXIDE_p',\n",
       " 'CARBON-DIOXIDE_c',\n",
       " 'DIHYDROXY-ACETONE-PHOSPHATE_p',\n",
       " 'FRUCTOSE-16-DIPHOSPHATE_p',\n",
       " 'WATER_p',\n",
       " 'DPG_c',\n",
       " 'NAD_c',\n",
       " 'PROTON_c',\n",
       " 'GAP_c',\n",
       " 'NADH_c',\n",
       " 'G3P_c',\n",
       " 'G3P_p',\n",
       " 'ADP-D-GLUCOSE_p',\n",
       " 'GLC-1-P_p',\n",
       " 'PPI_p',\n",
       " 'STARCH_p',\n",
       " 'WATER_c',\n",
       " 'MAL_c',\n",
       " 'OXALACETIC_ACID_c',\n",
       " 'OXALACETIC_ACID_p',\n",
       " 'NAD_p',\n",
       " 'MAL_p',\n",
       " 'NADH_p',\n",
       " 'PLASTOQUINONE_p',\n",
       " 'PLASTOQUINOL-1_p',\n",
       " 'Pumped-PROTON_p',\n",
       " 'NADP_c',\n",
       " 'NADPH_c',\n",
       " 'OXYGEN-MOLECULE_c',\n",
       " 'OXYGEN-MOLECULE_p',\n",
       " 'GLC-6-P_p',\n",
       " 'D-RIBULOSE-15-P2_p',\n",
       " 'RIBULOSE-5P_p',\n",
       " 'CHLOROPHYLL-B_p',\n",
       " 'PHYTYL-PYROPHOSPHATE_p',\n",
       " 'CPD-7014_p',\n",
       " 'CPD-7015_p',\n",
       " 'CHLOROPHYLLIDE-A_p',\n",
       " 'CPD-7016_p',\n",
       " 'CHLOROPHYLL-A_p',\n",
       " 'D-SEDOHEPTULOSE-1-7-P2_p']"
      ]
     },
     "execution_count": 33,
     "metadata": {},
     "output_type": "execute_result"
    }
   ],
   "source": [
    "m.Metabolites()"
   ]
  },
  {
   "cell_type": "code",
   "execution_count": null,
   "metadata": {},
   "outputs": [],
   "source": [
    "def blockPrint():\n",
    "    sys.stdout = open(os.devnull, 'w')\n",
    "\n",
    "def enablePrint():\n",
    "    sys.stdout = sys.__stdout__\n",
    "\n",
    "blockPrint()"
   ]
  },
  {
   "cell_type": "code",
   "execution_count": 2,
   "metadata": {},
   "outputs": [
    {
     "data": {
      "text/plain": [
       "['GN7V-61327', 'GN7V-49009', 'GN7V-63361', 'GN7V-47550', 'GN7V-51522']"
      ]
     },
     "execution_count": 2,
     "metadata": {},
     "output_type": "execute_result"
    }
   ],
   "source": [
    "import random\n",
    "#[m.Reactions()[i] for i in random.sample(range(len(m.Reactions())), 5)]\n",
    "#[m.Metabolites()[i] for i in random.sample(range(len(m.Metabolites())), 5)]\n",
    "[m.Genes()[i] for i in random.sample(range(len(m.Genes())), 5)]"
   ]
  },
  {
   "cell_type": "code",
   "execution_count": 3,
   "metadata": {},
   "outputs": [],
   "source": [
    "# Creating sample reactions\n",
    "reac_sample = ['F16ALDOLASE-RXN_p','SEDOHEPTULOSE-BISPHOSPHATASE-RXN_p','Starch_tx','NADPHoxc_tx','ATP_ADP_Pi_pc']\n",
    "met_sample = ['ERYTHROSE-4P_p','CARBON-DIOXIDE_p','ADP-D-GLUCOSE_p','GLC-6-P_p','CHLOROPHYLLIDE-A_p']\n",
    "gen_sample = ['GN7V-60448', 'GN7V-62885', 'GN7V-45042', 'GN7V-44396', 'GN7V-63145']"
   ]
  },
  {
   "cell_type": "code",
   "execution_count": 4,
   "metadata": {},
   "outputs": [],
   "source": [
    "# MANIPULATING AND WRITING MODELS\n",
    "m.Copy()\n",
    "m.SubModel(reac_sample)\n",
    "m.DuplicateModel([\"_c\", \"_t\"])\n",
    "m.WriteModel(os.path.join(currentdir, \"misc\", \"writemodel.xls\"))\n",
    "m.WriteModel(os.path.join(currentdir, \"misc\", \"writemodel.sbml\"))\n",
    "m.WriteAttributes(os.path.join(currentdir, \"misc\", \"writeattr\"))\n",
    "m.WriteNetwork(os.path.join(currentdir, \"misc\", \"writenetwork\"))"
   ]
  },
  {
   "cell_type": "code",
   "execution_count": 5,
   "metadata": {
    "scrolled": true
   },
   "outputs": [
    {
     "name": "stdout",
     "output_type": "stream",
     "text": [
      "F16ALDOLASE-RXN_p\tFRUCTOSE-16-DIPHOSPHATE_p <=> DIHYDROXY-ACETONE-PHOSPHATE_p + GAP_p\n",
      "SEDOHEPTULOSE-BISPHOSPHATASE-RXN_p\tD-SEDOHEPTULOSE-1-7-P2_p + WATER_p --> D-SEDOHEPTULOSE-7-P_p + Pi_p\n",
      "Starch_tx\t <-- STARCH_p\n",
      "NADPHoxc_tx\tNADP_c + WATER_c <=> NADPH_c + 0.5 OXYGEN-MOLECULE_c + PROTON_c\n",
      "ATP_ADP_Pi_pc\tADP_c + ATP_p + Pi_c <=> ADP_p + ATP_c + Pi_p\n"
     ]
    },
    {
     "data": {
      "text/plain": [
       "{}"
      ]
     },
     "execution_count": 5,
     "metadata": {},
     "output_type": "execute_result"
    }
   ],
   "source": [
    "### REACTIONS \n",
    "# GETTING REACTIONS\n",
    "m.GetReactions(reac_sample)\n",
    "m.GetReactionNames(reac_sample)\n",
    "m.Isozymes()\n",
    "# PRINTING REACTIONS\n",
    "m.PrintReactions(reac_sample)\n",
    "# ADDING AND REMOVING REACTIONS\n",
    "m.AddReaction(\"R1\", {\"A\": 1, \"B\":-1})\n",
    "m.ChangeReactionStoichiometry(\"R1\", {\"A\": 2, \"B\":-5})\n",
    "m.DelReactions([\"R1\"])\n",
    "# IMBALANCE REACTIONS\n",
    "m.ImbalanceReactions()\n",
    "m.CheckReactionBalance(reac_sample[0])"
   ]
  },
  {
   "cell_type": "code",
   "execution_count": 6,
   "metadata": {},
   "outputs": [],
   "source": [
    "### METABOLITES\n",
    "# GETTING METABOLITES\n",
    "m.GetMetabolites(met_sample)\n",
    "m.GetMetaboliteNames(met_sample)\n",
    "m.Metabolites()\n",
    "# ADDING AND REMOVING METABOLITES\n",
    "m.AddReaction(\"R1\", {\"A\": 1, \"B\":-1})\n",
    "m.AddMetabolite(\"D\")\n",
    "m.SubstituteMetabolite(\"A\", \"D\")\n",
    "m.DelMetabolites([\"A\"])\n",
    "m.DelReaction(\"R1\")\n",
    "m.AddProtonsToMets({m.GetMetabolite(met_sample[1]): 2, m.GetMetabolite(met_sample[2]): 3},\"PROTON_p\")\n",
    "m.AssignMetabolitesNeutralFormula()"
   ]
  },
  {
   "cell_type": "code",
   "execution_count": 14,
   "metadata": {},
   "outputs": [
    {
     "name": "stdout",
     "output_type": "stream",
     "text": [
      "optimal\n"
     ]
    }
   ],
   "source": [
    "m.Solve()"
   ]
  },
  {
   "cell_type": "code",
   "execution_count": 20,
   "metadata": {},
   "outputs": [
    {
     "name": "stdout",
     "output_type": "stream",
     "text": [
      "optimal\n",
      "Starch_tx: -1.0\n",
      "O2_pc: -1.0\n",
      "optimal\n",
      "optimal\n",
      "yes\n"
     ]
    },
    {
     "data": {
      "text/plain": [
       "[]"
      ]
     },
     "execution_count": 20,
     "metadata": {},
     "output_type": "execute_result"
    }
   ],
   "source": [
    "# SOLVING AND PRINTING SOLUTIONS\n",
    "m.Solve()\n",
    "m.GetSol()\n",
    "m.PrintSol()\n",
    "m.MinFluxSolve()\n",
    "m.AdjustedMinFluxSolve()\n",
    "m.NetStoi()\n",
    "#m.ProduceMetabolites()\n",
    "m.BlockedMetabolites()"
   ]
  },
  {
   "cell_type": "code",
   "execution_count": 45,
   "metadata": {},
   "outputs": [
    {
     "data": {
      "text/plain": [
       "[]"
      ]
     },
     "execution_count": 45,
     "metadata": {},
     "output_type": "execute_result"
    }
   ],
   "source": [
    "m.ProduceMetabolites()\n",
    "m.Metabolites()"
   ]
  },
  {
   "cell_type": "code",
   "execution_count": 27,
   "metadata": {},
   "outputs": [
    {
     "name": "stdout",
     "output_type": "stream",
     "text": [
      "[-1000.0, -2000.0]\n",
      "{'GLUC1PADENYLTRANS-RXN_p': -0.0010556026883, 'RIBULP3EPIM-RXN_p': -0.00029626487446666663, 'CO2_tx': -0.0007037351255333333}\n",
      "{'RXN1F-66_p': 0.0, 'GLYCOGENSYN-RXN_p': 0.0, 'PHOSPHOGLUCMUT-RXN_p': 0.0, 'GAP_3PGA_pc': 0.0, 'Starch_tx_reverse': 0.0, 'Plastidial_ATP_Synthase_p': 0.0, 'PHOSPHORIBULOKINASE-RXN_p': 0.0, 'PHOSPHOGLUCMUT-RXN_p_reverse': 0.0, 'PHOSGLYPHOS-RXN_c': 0.0, 'RXN-7678-NAD_p': 0.0, 'GAPOXNPHOSPHN-RXN_c_reverse': 0.0, 'Obj1': 1000.0, 'Obj2': 2000.0, '1.18.1.2-RXN_p': 0.0, 'RXN-7674_p': 0.0, '1TRANSKETO-RXN_p_reverse': 0.0, 'NADPHoxp_tx': 0.0, 'F16BDEPHOS-RXN_p': 0.0, 'RIB5PISOM-RXN_p_reverse': 0.0, 'Plastoquinol_Oxidase_p': 0.0, 'RXN-7678-NAD_p_reverse': 0.0, 'coef2': -0.00035186756276666667, 'SEDOBISALDOL-RXN_p': 0.0, 'CO2_pc': 0.0, 'OAA_MAL_pc_reverse': 0.0, 'O2_pc': -1.0, 'TRIOSEPISOMERIZATION-RXN_p_reverse': 0.0, 'NADPHoxc_tx': 0.0, '1.18.1.2-RXN_p_reverse': 0.0, 'O2_pc_reverse': 0.0, 'H2O_tx': 0.0, 'F16ALDOLASE-RXN_p_reverse': 0.0, 'H2O_pc': 0.0, 'CO2_tx': 1000.0, 'F16ALDOLASE-RXN_p': 0.0, '2TRANSKETO-RXN_p': 0.0, 'O2_tx': 0.0, 'RXN-7676_p': 0.0, 'RXN1F-66_p_reverse': 0.0, 'coef1': -0.00029626487446666663, 'SEDOHEPTULOSE-BISPHOSPHATASE-RXN_p': 0.0, 'RIBULOSE-BISPHOSPHATE-CARBOXYLASE-RXN_p_reverse': 0.0, 'RIB5PISOM-RXN_p': 0.0, 'RIBULOSE-BISPHOSPHATE-CARBOXYLASE-RXN_p': 0.0, 'GAPOXNPHOSPHN-RXN_c': 0.0, 'NADPHoxc_tx_reverse': 0.0, 'RXN-7677_p': 0.0, 'PGLUCISOM-RXN_p': 0.0, 'PGLUCISOM-RXN_p_reverse': 0.0, 'ATP_ADP_Pi_pc_reverse': 0.0, 'NADPH_Dehydrogenase_p': 0.0, 'NADPHoxp_tx_reverse': 0.0, 'Starch_tx': -1.0, 'TRIOSEPISOMERIZATION-RXN_p': 0.0, 'CO2_tx_reverse': 0.0, '2TRANSKETO-RXN_p_reverse': 0.0, 'ATP_ADP_Pi_pc': 0.0, 'GAP_3PGA_pc_reverse': 0.0, 'MALATE-DEH-RXN_c_reverse': 0.0, 'OAA_MAL_pc': 0.0, '1TRANSKETO-RXN_p': 0.0, 'H2O_tx_reverse': 0.0, 'GLUC1PADENYLTRANS-RXN_p': 0.0, 'MALATE-DEH-RXN_p_reverse': 0.0, 'PYRNUTRANSHYDROGEN-RXN_c': 0.0, 'RIBULP3EPIM-RXN_p': 1000.0, 'RIBULP3EPIM-RXN_p_reverse': 0.0, 'MALATE-DEH-RXN_c': 0.0, 'RXN-7679_p': 0.0, 'O2_tx_reverse': 0.0, 'CO2_pc_reverse': 0.0, 'H2O_pc_reverse': 0.0, 'PHOSGLYPHOS-RXN_c_reverse': 0.0, 'MALATE-DEH-RXN_p': 0.0, 'INORGPYROPHOSPHAT-RXN_p': 0.0}\n",
      "{'GLUC1PADENYLTRANS-RXN_p': -0.0006593496431283324, 'RIBULP3EPIM-RXN_p': -0.0005604335712477784, 'CO2_tx': -0.0004395664287522216}\n",
      "{'RXN1F-66_p': 0.0, 'GLYCOGENSYN-RXN_p': 0.0, 'PHOSPHOGLUCMUT-RXN_p': 0.0, 'GAP_3PGA_pc': 0.0, 'Starch_tx_reverse': 0.0, 'Plastidial_ATP_Synthase_p': 0.0, 'PHOSPHORIBULOKINASE-RXN_p': 0.0, 'PHOSPHOGLUCMUT-RXN_p_reverse': 0.0, 'PHOSGLYPHOS-RXN_c': 0.0, 'RXN-7678-NAD_p': 0.0, 'GAPOXNPHOSPHN-RXN_c_reverse': 0.0, 'Obj1': 1000.0, 'Obj2': 2000.0, '1.18.1.2-RXN_p': 0.0, 'RXN-7674_p': 0.0, '1TRANSKETO-RXN_p_reverse': 0.0, 'NADPHoxp_tx': 0.0, 'F16BDEPHOS-RXN_p': 0.0, 'RIB5PISOM-RXN_p_reverse': 0.0, 'Plastoquinol_Oxidase_p': 0.0, 'RXN-7678-NAD_p_reverse': 0.0, 'coef2': -0.0002197832143761108, 'SEDOBISALDOL-RXN_p': 0.0, 'CO2_pc': 0.0, 'OAA_MAL_pc_reverse': 0.0, 'O2_pc': -1.0, 'TRIOSEPISOMERIZATION-RXN_p_reverse': 0.0, 'NADPHoxc_tx': 0.0, '1.18.1.2-RXN_p_reverse': 0.0, 'O2_pc_reverse': 0.0, 'H2O_tx': 0.0, 'F16ALDOLASE-RXN_p_reverse': 0.0, 'H2O_pc': 0.0, 'CO2_tx': 1000.0, 'F16ALDOLASE-RXN_p': 0.0, '2TRANSKETO-RXN_p': 0.0, 'O2_tx': 0.0, 'RXN-7676_p': 0.0, 'RXN1F-66_p_reverse': 0.0, 'coef1': -0.0005604335712477784, 'SEDOHEPTULOSE-BISPHOSPHATASE-RXN_p': 0.0, 'RIBULOSE-BISPHOSPHATE-CARBOXYLASE-RXN_p_reverse': 0.0, 'RIB5PISOM-RXN_p': 0.0, 'RIBULOSE-BISPHOSPHATE-CARBOXYLASE-RXN_p': 0.0, 'GAPOXNPHOSPHN-RXN_c': 0.0, 'NADPHoxc_tx_reverse': 0.0, 'RXN-7677_p': 0.0, 'PGLUCISOM-RXN_p': 0.0, 'PGLUCISOM-RXN_p_reverse': 0.0, 'ATP_ADP_Pi_pc_reverse': 0.0, 'NADPH_Dehydrogenase_p': 0.0, 'NADPHoxp_tx_reverse': 0.0, 'Starch_tx': -1.0, 'TRIOSEPISOMERIZATION-RXN_p': 0.0, 'CO2_tx_reverse': 0.0, '2TRANSKETO-RXN_p_reverse': 0.0, 'ATP_ADP_Pi_pc': 0.0, 'GAP_3PGA_pc_reverse': 0.0, 'MALATE-DEH-RXN_c_reverse': 0.0, 'OAA_MAL_pc': 0.0, '1TRANSKETO-RXN_p': 0.0, 'H2O_tx_reverse': 0.0, 'GLUC1PADENYLTRANS-RXN_p': 0.0, 'MALATE-DEH-RXN_p_reverse': 0.0, 'PYRNUTRANSHYDROGEN-RXN_c': 0.0, 'RIBULP3EPIM-RXN_p': 1000.0, 'RIBULP3EPIM-RXN_p_reverse': 0.0, 'MALATE-DEH-RXN_c': 0.0, 'RXN-7679_p': 0.0, 'O2_tx_reverse': 0.0, 'CO2_pc_reverse': 0.0, 'H2O_pc_reverse': 0.0, 'PHOSGLYPHOS-RXN_c_reverse': 0.0, 'MALATE-DEH-RXN_p': 0.0, 'INORGPYROPHOSPHAT-RXN_p': 0.0}\n",
      "{'GLUC1PADENYLTRANS-RXN_p': -0.0003500762010343815, 'RIBULP3EPIM-RXN_p': -0.000766615865977079, 'CO2_tx': -0.00023338413402292102}\n",
      "{'RXN1F-66_p': 0.0, 'GLYCOGENSYN-RXN_p': 0.0, 'PHOSPHOGLUCMUT-RXN_p': 0.0, 'GAP_3PGA_pc': 0.0, 'Starch_tx_reverse': 0.0, 'Plastidial_ATP_Synthase_p': 0.0, 'PHOSPHORIBULOKINASE-RXN_p': 0.0, 'PHOSPHOGLUCMUT-RXN_p_reverse': 0.0, 'PHOSGLYPHOS-RXN_c': 0.0, 'RXN-7678-NAD_p': 0.0, 'GAPOXNPHOSPHN-RXN_c_reverse': 0.0, 'Obj1': 1000.0, 'Obj2': 2000.0, '1.18.1.2-RXN_p': 0.0, 'RXN-7674_p': 0.0, '1TRANSKETO-RXN_p_reverse': 0.0, 'NADPHoxp_tx': 0.0, 'F16BDEPHOS-RXN_p': 0.0, 'RIB5PISOM-RXN_p_reverse': 0.0, 'Plastoquinol_Oxidase_p': 0.0, 'RXN-7678-NAD_p_reverse': 0.0, 'coef2': -0.00011669206701146051, 'SEDOBISALDOL-RXN_p': 0.0, 'CO2_pc': 0.0, 'OAA_MAL_pc_reverse': 0.0, 'O2_pc': -1.0, 'TRIOSEPISOMERIZATION-RXN_p_reverse': 0.0, 'NADPHoxc_tx': 0.0, '1.18.1.2-RXN_p_reverse': 0.0, 'O2_pc_reverse': 0.0, 'H2O_tx': 0.0, 'F16ALDOLASE-RXN_p_reverse': 0.0, 'H2O_pc': 0.0, 'CO2_tx': 1000.0, 'F16ALDOLASE-RXN_p': 0.0, '2TRANSKETO-RXN_p': 0.0, 'O2_tx': 0.0, 'RXN-7676_p': 0.0, 'RXN1F-66_p_reverse': 0.0, 'coef1': -0.000766615865977079, 'SEDOHEPTULOSE-BISPHOSPHATASE-RXN_p': 0.0, 'RIBULOSE-BISPHOSPHATE-CARBOXYLASE-RXN_p_reverse': 0.0, 'RIB5PISOM-RXN_p': 0.0, 'RIBULOSE-BISPHOSPHATE-CARBOXYLASE-RXN_p': 0.0, 'GAPOXNPHOSPHN-RXN_c': 0.0, 'NADPHoxc_tx_reverse': 0.0, 'RXN-7677_p': 0.0, 'PGLUCISOM-RXN_p': 0.0, 'PGLUCISOM-RXN_p_reverse': 0.0, 'ATP_ADP_Pi_pc_reverse': 0.0, 'NADPH_Dehydrogenase_p': 0.0, 'NADPHoxp_tx_reverse': 0.0, 'Starch_tx': -1.0, 'TRIOSEPISOMERIZATION-RXN_p': 0.0, 'CO2_tx_reverse': 0.0, '2TRANSKETO-RXN_p_reverse': 0.0, 'ATP_ADP_Pi_pc': 0.0, 'GAP_3PGA_pc_reverse': 0.0, 'MALATE-DEH-RXN_c_reverse': 0.0, 'OAA_MAL_pc': 0.0, '1TRANSKETO-RXN_p': 0.0, 'H2O_tx_reverse': 0.0, 'GLUC1PADENYLTRANS-RXN_p': 0.0, 'MALATE-DEH-RXN_p_reverse': 0.0, 'PYRNUTRANSHYDROGEN-RXN_c': 0.0, 'RIBULP3EPIM-RXN_p': 1000.0, 'RIBULP3EPIM-RXN_p_reverse': 0.0, 'MALATE-DEH-RXN_c': 0.0, 'RXN-7679_p': 0.0, 'O2_tx_reverse': 0.0, 'CO2_pc_reverse': 0.0, 'H2O_pc_reverse': 0.0, 'PHOSGLYPHOS-RXN_c_reverse': 0.0, 'MALATE-DEH-RXN_p': 0.0, 'INORGPYROPHOSPHAT-RXN_p': 0.0}\n",
      "{'GLUC1PADENYLTRANS-RXN_p': -0.0004897265202906749, 'RIBULP3EPIM-RXN_p': -0.0006735156531395501, 'CO2_tx': -0.0003264843468604499}\n",
      "{'RXN1F-66_p': 0.0, 'GLYCOGENSYN-RXN_p': 0.0, 'PHOSPHOGLUCMUT-RXN_p': 0.0, 'GAP_3PGA_pc': 0.0, 'Starch_tx_reverse': 0.0, 'Plastidial_ATP_Synthase_p': 0.0, 'PHOSPHORIBULOKINASE-RXN_p': 0.0, 'PHOSPHOGLUCMUT-RXN_p_reverse': 0.0, 'PHOSGLYPHOS-RXN_c': 0.0, 'RXN-7678-NAD_p': 0.0, 'GAPOXNPHOSPHN-RXN_c_reverse': 0.0, 'Obj1': 1000.0, 'Obj2': 2000.0, '1.18.1.2-RXN_p': 0.0, 'RXN-7674_p': 0.0, '1TRANSKETO-RXN_p_reverse': 0.0, 'NADPHoxp_tx': 0.0, 'F16BDEPHOS-RXN_p': 0.0, 'RIB5PISOM-RXN_p_reverse': 0.0, 'Plastoquinol_Oxidase_p': 0.0, 'RXN-7678-NAD_p_reverse': 0.0, 'coef2': -0.00016324217343022495, 'SEDOBISALDOL-RXN_p': 0.0, 'CO2_pc': 0.0, 'OAA_MAL_pc_reverse': 0.0, 'O2_pc': -1.0, 'TRIOSEPISOMERIZATION-RXN_p_reverse': 0.0, 'NADPHoxc_tx': 0.0, '1.18.1.2-RXN_p_reverse': 0.0, 'O2_pc_reverse': 0.0, 'H2O_tx': 0.0, 'F16ALDOLASE-RXN_p_reverse': 0.0, 'H2O_pc': 0.0, 'CO2_tx': 1000.0, 'F16ALDOLASE-RXN_p': 0.0, '2TRANSKETO-RXN_p': 0.0, 'O2_tx': 0.0, 'RXN-7676_p': 0.0, 'RXN1F-66_p_reverse': 0.0, 'coef1': -0.0006735156531395501, 'SEDOHEPTULOSE-BISPHOSPHATASE-RXN_p': 0.0, 'RIBULOSE-BISPHOSPHATE-CARBOXYLASE-RXN_p_reverse': 0.0, 'RIB5PISOM-RXN_p': 0.0, 'RIBULOSE-BISPHOSPHATE-CARBOXYLASE-RXN_p': 0.0, 'GAPOXNPHOSPHN-RXN_c': 0.0, 'NADPHoxc_tx_reverse': 0.0, 'RXN-7677_p': 0.0, 'PGLUCISOM-RXN_p': 0.0, 'PGLUCISOM-RXN_p_reverse': 0.0, 'ATP_ADP_Pi_pc_reverse': 0.0, 'NADPH_Dehydrogenase_p': 0.0, 'NADPHoxp_tx_reverse': 0.0, 'Starch_tx': -1.0, 'TRIOSEPISOMERIZATION-RXN_p': 0.0, 'CO2_tx_reverse': 0.0, '2TRANSKETO-RXN_p_reverse': 0.0, 'ATP_ADP_Pi_pc': 0.0, 'GAP_3PGA_pc_reverse': 0.0, 'MALATE-DEH-RXN_c_reverse': 0.0, 'OAA_MAL_pc': 0.0, '1TRANSKETO-RXN_p': 0.0, 'H2O_tx_reverse': 0.0, 'GLUC1PADENYLTRANS-RXN_p': 0.0, 'MALATE-DEH-RXN_p_reverse': 0.0, 'PYRNUTRANSHYDROGEN-RXN_c': 0.0, 'RIBULP3EPIM-RXN_p': 1000.0, 'RIBULP3EPIM-RXN_p_reverse': 0.0, 'MALATE-DEH-RXN_c': 0.0, 'RXN-7679_p': 0.0, 'O2_tx_reverse': 0.0, 'CO2_pc_reverse': 0.0, 'H2O_pc_reverse': 0.0, 'PHOSGLYPHOS-RXN_c_reverse': 0.0, 'MALATE-DEH-RXN_p': 0.0, 'INORGPYROPHOSPHAT-RXN_p': 0.0}\n",
      "{'GLUC1PADENYLTRANS-RXN_p': -0.0013518682023003316, 'RIBULP3EPIM-RXN_p': -9.875453179977893e-05, 'CO2_tx': -0.0009012454682002211}\n",
      "{'RXN1F-66_p': 0.0, 'GLYCOGENSYN-RXN_p': 0.0, 'PHOSPHOGLUCMUT-RXN_p': 0.0, 'GAP_3PGA_pc': 0.0, 'Starch_tx_reverse': 0.0, 'Plastidial_ATP_Synthase_p': 0.0, 'PHOSPHORIBULOKINASE-RXN_p': 0.0, 'PHOSPHOGLUCMUT-RXN_p_reverse': 0.0, 'PHOSGLYPHOS-RXN_c': 0.0, 'RXN-7678-NAD_p': 0.0, 'GAPOXNPHOSPHN-RXN_c_reverse': 0.0, 'Obj1': 1000.0, 'Obj2': 2000.0, '1.18.1.2-RXN_p': 0.0, 'RXN-7674_p': 0.0, '1TRANSKETO-RXN_p_reverse': 0.0, 'NADPHoxp_tx': 0.0, 'F16BDEPHOS-RXN_p': 0.0, 'RIB5PISOM-RXN_p_reverse': 0.0, 'Plastoquinol_Oxidase_p': 0.0, 'RXN-7678-NAD_p_reverse': 0.0, 'coef2': -0.00045062273410011053, 'SEDOBISALDOL-RXN_p': 0.0, 'CO2_pc': 0.0, 'OAA_MAL_pc_reverse': 0.0, 'O2_pc': -1.0, 'TRIOSEPISOMERIZATION-RXN_p_reverse': 0.0, 'NADPHoxc_tx': 0.0, '1.18.1.2-RXN_p_reverse': 0.0, 'O2_pc_reverse': 0.0, 'H2O_tx': 0.0, 'F16ALDOLASE-RXN_p_reverse': 0.0, 'H2O_pc': 0.0, 'CO2_tx': 1000.0, 'F16ALDOLASE-RXN_p': 0.0, '2TRANSKETO-RXN_p': 0.0, 'O2_tx': 0.0, 'RXN-7676_p': 0.0, 'RXN1F-66_p_reverse': 0.0, 'coef1': -9.875453179977893e-05, 'SEDOHEPTULOSE-BISPHOSPHATASE-RXN_p': 0.0, 'RIBULOSE-BISPHOSPHATE-CARBOXYLASE-RXN_p_reverse': 0.0, 'RIB5PISOM-RXN_p': 0.0, 'RIBULOSE-BISPHOSPHATE-CARBOXYLASE-RXN_p': 0.0, 'GAPOXNPHOSPHN-RXN_c': 0.0, 'NADPHoxc_tx_reverse': 0.0, 'RXN-7677_p': 0.0, 'PGLUCISOM-RXN_p': 0.0, 'PGLUCISOM-RXN_p_reverse': 0.0, 'ATP_ADP_Pi_pc_reverse': 0.0, 'NADPH_Dehydrogenase_p': 0.0, 'NADPHoxp_tx_reverse': 0.0, 'Starch_tx': -1.0, 'TRIOSEPISOMERIZATION-RXN_p': 0.0, 'CO2_tx_reverse': 0.0, '2TRANSKETO-RXN_p_reverse': 0.0, 'ATP_ADP_Pi_pc': 0.0, 'GAP_3PGA_pc_reverse': 0.0, 'MALATE-DEH-RXN_c_reverse': 0.0, 'OAA_MAL_pc': 0.0, '1TRANSKETO-RXN_p': 0.0, 'H2O_tx_reverse': 0.0, 'GLUC1PADENYLTRANS-RXN_p': 0.0, 'MALATE-DEH-RXN_p_reverse': 0.0, 'PYRNUTRANSHYDROGEN-RXN_c': 0.0, 'RIBULP3EPIM-RXN_p': 1000.0, 'RIBULP3EPIM-RXN_p_reverse': 0.0, 'MALATE-DEH-RXN_c': 0.0, 'RXN-7679_p': 0.0, 'O2_tx_reverse': 0.0, 'CO2_pc_reverse': 0.0, 'H2O_pc_reverse': 0.0, 'PHOSGLYPHOS-RXN_c_reverse': 0.0, 'MALATE-DEH-RXN_p': 0.0, 'INORGPYROPHOSPHAT-RXN_p': 0.0}\n"
     ]
    },
    {
     "name": "stdout",
     "output_type": "stream",
     "text": [
      "{'GLUC1PADENYLTRANS-RXN_p': -0.0007811950290183422, 'RIBULP3EPIM-RXN_p': -0.0004792033139877718, 'CO2_tx': -0.0005207966860122282}\n",
      "{'RXN1F-66_p': 0.0, 'GLYCOGENSYN-RXN_p': 0.0, 'PHOSPHOGLUCMUT-RXN_p': 0.0, 'GAP_3PGA_pc': 0.0, 'Starch_tx_reverse': 0.0, 'Plastidial_ATP_Synthase_p': 0.0, 'PHOSPHORIBULOKINASE-RXN_p': 0.0, 'PHOSPHOGLUCMUT-RXN_p_reverse': 0.0, 'PHOSGLYPHOS-RXN_c': 0.0, 'RXN-7678-NAD_p': 0.0, 'GAPOXNPHOSPHN-RXN_c_reverse': 0.0, 'Obj1': 1000.0, 'Obj2': 2000.0, '1.18.1.2-RXN_p': 0.0, 'RXN-7674_p': 0.0, '1TRANSKETO-RXN_p_reverse': 0.0, 'NADPHoxp_tx': 0.0, 'F16BDEPHOS-RXN_p': 0.0, 'RIB5PISOM-RXN_p_reverse': 0.0, 'Plastoquinol_Oxidase_p': 0.0, 'RXN-7678-NAD_p_reverse': 0.0, 'coef2': -0.0002603983430061141, 'SEDOBISALDOL-RXN_p': 0.0, 'CO2_pc': 0.0, 'OAA_MAL_pc_reverse': 0.0, 'O2_pc': -1.0, 'TRIOSEPISOMERIZATION-RXN_p_reverse': 0.0, 'NADPHoxc_tx': 0.0, '1.18.1.2-RXN_p_reverse': 0.0, 'O2_pc_reverse': 0.0, 'H2O_tx': 0.0, 'F16ALDOLASE-RXN_p_reverse': 0.0, 'H2O_pc': 0.0, 'CO2_tx': 1000.0, 'F16ALDOLASE-RXN_p': 0.0, '2TRANSKETO-RXN_p': 0.0, 'O2_tx': 0.0, 'RXN-7676_p': 0.0, 'RXN1F-66_p_reverse': 0.0, 'coef1': -0.0004792033139877718, 'SEDOHEPTULOSE-BISPHOSPHATASE-RXN_p': 0.0, 'RIBULOSE-BISPHOSPHATE-CARBOXYLASE-RXN_p_reverse': 0.0, 'RIB5PISOM-RXN_p': 0.0, 'RIBULOSE-BISPHOSPHATE-CARBOXYLASE-RXN_p': 0.0, 'GAPOXNPHOSPHN-RXN_c': 0.0, 'NADPHoxc_tx_reverse': 0.0, 'RXN-7677_p': 0.0, 'PGLUCISOM-RXN_p': 0.0, 'PGLUCISOM-RXN_p_reverse': 0.0, 'ATP_ADP_Pi_pc_reverse': 0.0, 'NADPH_Dehydrogenase_p': 0.0, 'NADPHoxp_tx_reverse': 0.0, 'Starch_tx': -1.0, 'TRIOSEPISOMERIZATION-RXN_p': 0.0, 'CO2_tx_reverse': 0.0, '2TRANSKETO-RXN_p_reverse': 0.0, 'ATP_ADP_Pi_pc': 0.0, 'GAP_3PGA_pc_reverse': 0.0, 'MALATE-DEH-RXN_c_reverse': 0.0, 'OAA_MAL_pc': 0.0, '1TRANSKETO-RXN_p': 0.0, 'H2O_tx_reverse': 0.0, 'GLUC1PADENYLTRANS-RXN_p': 0.0, 'MALATE-DEH-RXN_p_reverse': 0.0, 'PYRNUTRANSHYDROGEN-RXN_c': 0.0, 'RIBULP3EPIM-RXN_p': 1000.0, 'RIBULP3EPIM-RXN_p_reverse': 0.0, 'MALATE-DEH-RXN_c': 0.0, 'RXN-7679_p': 0.0, 'O2_tx_reverse': 0.0, 'CO2_pc_reverse': 0.0, 'H2O_pc_reverse': 0.0, 'PHOSGLYPHOS-RXN_c_reverse': 0.0, 'MALATE-DEH-RXN_p': 0.0, 'INORGPYROPHOSPHAT-RXN_p': 0.0}\n",
      "{'GLUC1PADENYLTRANS-RXN_p': -0.001183076042548602, 'RIBULP3EPIM-RXN_p': -0.0002112826383009322, 'CO2_tx': -0.0007887173616990679}\n",
      "{'RXN1F-66_p': 0.0, 'GLYCOGENSYN-RXN_p': 0.0, 'PHOSPHOGLUCMUT-RXN_p': 0.0, 'GAP_3PGA_pc': 0.0, 'Starch_tx_reverse': 0.0, 'Plastidial_ATP_Synthase_p': 0.0, 'PHOSPHORIBULOKINASE-RXN_p': 0.0, 'PHOSPHOGLUCMUT-RXN_p_reverse': 0.0, 'PHOSGLYPHOS-RXN_c': 0.0, 'RXN-7678-NAD_p': 0.0, 'GAPOXNPHOSPHN-RXN_c_reverse': 0.0, 'Obj1': 1000.0, 'Obj2': 2000.0, '1.18.1.2-RXN_p': 0.0, 'RXN-7674_p': 0.0, '1TRANSKETO-RXN_p_reverse': 0.0, 'NADPHoxp_tx': 0.0, 'F16BDEPHOS-RXN_p': 0.0, 'RIB5PISOM-RXN_p_reverse': 0.0, 'Plastoquinol_Oxidase_p': 0.0, 'RXN-7678-NAD_p_reverse': 0.0, 'coef2': -0.00039435868084953396, 'SEDOBISALDOL-RXN_p': 0.0, 'CO2_pc': 0.0, 'OAA_MAL_pc_reverse': 0.0, 'O2_pc': -1.0, 'TRIOSEPISOMERIZATION-RXN_p_reverse': 0.0, 'NADPHoxc_tx': 0.0, '1.18.1.2-RXN_p_reverse': 0.0, 'O2_pc_reverse': 0.0, 'H2O_tx': 0.0, 'F16ALDOLASE-RXN_p_reverse': 0.0, 'H2O_pc': 0.0, 'CO2_tx': 1000.0, 'F16ALDOLASE-RXN_p': 0.0, '2TRANSKETO-RXN_p': 0.0, 'O2_tx': 0.0, 'RXN-7676_p': 0.0, 'RXN1F-66_p_reverse': 0.0, 'coef1': -0.0002112826383009322, 'SEDOHEPTULOSE-BISPHOSPHATASE-RXN_p': 0.0, 'RIBULOSE-BISPHOSPHATE-CARBOXYLASE-RXN_p_reverse': 0.0, 'RIB5PISOM-RXN_p': 0.0, 'RIBULOSE-BISPHOSPHATE-CARBOXYLASE-RXN_p': 0.0, 'GAPOXNPHOSPHN-RXN_c': 0.0, 'NADPHoxc_tx_reverse': 0.0, 'RXN-7677_p': 0.0, 'PGLUCISOM-RXN_p': 0.0, 'PGLUCISOM-RXN_p_reverse': 0.0, 'ATP_ADP_Pi_pc_reverse': 0.0, 'NADPH_Dehydrogenase_p': 0.0, 'NADPHoxp_tx_reverse': 0.0, 'Starch_tx': -1.0, 'TRIOSEPISOMERIZATION-RXN_p': 0.0, 'CO2_tx_reverse': 0.0, '2TRANSKETO-RXN_p_reverse': 0.0, 'ATP_ADP_Pi_pc': 0.0, 'GAP_3PGA_pc_reverse': 0.0, 'MALATE-DEH-RXN_c_reverse': 0.0, 'OAA_MAL_pc': 0.0, '1TRANSKETO-RXN_p': 0.0, 'H2O_tx_reverse': 0.0, 'GLUC1PADENYLTRANS-RXN_p': 0.0, 'MALATE-DEH-RXN_p_reverse': 0.0, 'PYRNUTRANSHYDROGEN-RXN_c': 0.0, 'RIBULP3EPIM-RXN_p': 1000.0, 'RIBULP3EPIM-RXN_p_reverse': 0.0, 'MALATE-DEH-RXN_c': 0.0, 'RXN-7679_p': 0.0, 'O2_tx_reverse': 0.0, 'CO2_pc_reverse': 0.0, 'H2O_pc_reverse': 0.0, 'PHOSGLYPHOS-RXN_c_reverse': 0.0, 'MALATE-DEH-RXN_p': 0.0, 'INORGPYROPHOSPHAT-RXN_p': 0.0}\n",
      "{'GLUC1PADENYLTRANS-RXN_p': -0.000660484756463581, 'RIBULP3EPIM-RXN_p': -0.0005596768290242792, 'CO2_tx': -0.00044032317097572073}\n",
      "{'RXN1F-66_p': 0.0, 'GLYCOGENSYN-RXN_p': 0.0, 'PHOSPHOGLUCMUT-RXN_p': 0.0, 'GAP_3PGA_pc': 0.0, 'Starch_tx_reverse': 0.0, 'Plastidial_ATP_Synthase_p': 0.0, 'PHOSPHORIBULOKINASE-RXN_p': 0.0, 'PHOSPHOGLUCMUT-RXN_p_reverse': 0.0, 'PHOSGLYPHOS-RXN_c': 0.0, 'RXN-7678-NAD_p': 0.0, 'GAPOXNPHOSPHN-RXN_c_reverse': 0.0, 'Obj1': 1000.0, 'Obj2': 2000.0, '1.18.1.2-RXN_p': 0.0, 'RXN-7674_p': 0.0, '1TRANSKETO-RXN_p_reverse': 0.0, 'NADPHoxp_tx': 0.0, 'F16BDEPHOS-RXN_p': 0.0, 'RIB5PISOM-RXN_p_reverse': 0.0, 'Plastoquinol_Oxidase_p': 0.0, 'RXN-7678-NAD_p_reverse': 0.0, 'coef2': -0.00022016158548786036, 'SEDOBISALDOL-RXN_p': 0.0, 'CO2_pc': 0.0, 'OAA_MAL_pc_reverse': 0.0, 'O2_pc': -1.0, 'TRIOSEPISOMERIZATION-RXN_p_reverse': 0.0, 'NADPHoxc_tx': 0.0, '1.18.1.2-RXN_p_reverse': 0.0, 'O2_pc_reverse': 0.0, 'H2O_tx': 0.0, 'F16ALDOLASE-RXN_p_reverse': 0.0, 'H2O_pc': 0.0, 'CO2_tx': 1000.0, 'F16ALDOLASE-RXN_p': 0.0, '2TRANSKETO-RXN_p': 0.0, 'O2_tx': 0.0, 'RXN-7676_p': 0.0, 'RXN1F-66_p_reverse': 0.0, 'coef1': -0.0005596768290242792, 'SEDOHEPTULOSE-BISPHOSPHATASE-RXN_p': 0.0, 'RIBULOSE-BISPHOSPHATE-CARBOXYLASE-RXN_p_reverse': 0.0, 'RIB5PISOM-RXN_p': 0.0, 'RIBULOSE-BISPHOSPHATE-CARBOXYLASE-RXN_p': 0.0, 'GAPOXNPHOSPHN-RXN_c': 0.0, 'NADPHoxc_tx_reverse': 0.0, 'RXN-7677_p': 0.0, 'PGLUCISOM-RXN_p': 0.0, 'PGLUCISOM-RXN_p_reverse': 0.0, 'ATP_ADP_Pi_pc_reverse': 0.0, 'NADPH_Dehydrogenase_p': 0.0, 'NADPHoxp_tx_reverse': 0.0, 'Starch_tx': -1.0, 'TRIOSEPISOMERIZATION-RXN_p': 0.0, 'CO2_tx_reverse': 0.0, '2TRANSKETO-RXN_p_reverse': 0.0, 'ATP_ADP_Pi_pc': 0.0, 'GAP_3PGA_pc_reverse': 0.0, 'MALATE-DEH-RXN_c_reverse': 0.0, 'OAA_MAL_pc': 0.0, '1TRANSKETO-RXN_p': 0.0, 'H2O_tx_reverse': 0.0, 'GLUC1PADENYLTRANS-RXN_p': 0.0, 'MALATE-DEH-RXN_p_reverse': 0.0, 'PYRNUTRANSHYDROGEN-RXN_c': 0.0, 'RIBULP3EPIM-RXN_p': 1000.0, 'RIBULP3EPIM-RXN_p_reverse': 0.0, 'MALATE-DEH-RXN_c': 0.0, 'RXN-7679_p': 0.0, 'O2_tx_reverse': 0.0, 'CO2_pc_reverse': 0.0, 'H2O_pc_reverse': 0.0, 'PHOSGLYPHOS-RXN_c_reverse': 0.0, 'MALATE-DEH-RXN_p': 0.0, 'INORGPYROPHOSPHAT-RXN_p': 0.0}\n",
      "{'GLUC1PADENYLTRANS-RXN_p': -0.0008756150098212475, 'RIBULP3EPIM-RXN_p': -0.0004162566601191682, 'CO2_tx': -0.0005837433398808317}\n",
      "{'RXN1F-66_p': 0.0, 'GLYCOGENSYN-RXN_p': 0.0, 'PHOSPHOGLUCMUT-RXN_p': 0.0, 'GAP_3PGA_pc': 0.0, 'Starch_tx_reverse': 0.0, 'Plastidial_ATP_Synthase_p': 0.0, 'PHOSPHORIBULOKINASE-RXN_p': 0.0, 'PHOSPHOGLUCMUT-RXN_p_reverse': 0.0, 'PHOSGLYPHOS-RXN_c': 0.0, 'RXN-7678-NAD_p': 0.0, 'GAPOXNPHOSPHN-RXN_c_reverse': 0.0, 'Obj1': 1000.0, 'Obj2': 2000.0, '1.18.1.2-RXN_p': 0.0, 'RXN-7674_p': 0.0, '1TRANSKETO-RXN_p_reverse': 0.0, 'NADPHoxp_tx': 0.0, 'F16BDEPHOS-RXN_p': 0.0, 'RIB5PISOM-RXN_p_reverse': 0.0, 'Plastoquinol_Oxidase_p': 0.0, 'RXN-7678-NAD_p_reverse': 0.0, 'coef2': -0.00029187166994041583, 'SEDOBISALDOL-RXN_p': 0.0, 'CO2_pc': 0.0, 'OAA_MAL_pc_reverse': 0.0, 'O2_pc': -1.0, 'TRIOSEPISOMERIZATION-RXN_p_reverse': 0.0, 'NADPHoxc_tx': 0.0, '1.18.1.2-RXN_p_reverse': 0.0, 'O2_pc_reverse': 0.0, 'H2O_tx': 0.0, 'F16ALDOLASE-RXN_p_reverse': 0.0, 'H2O_pc': 0.0, 'CO2_tx': 1000.0, 'F16ALDOLASE-RXN_p': 0.0, '2TRANSKETO-RXN_p': 0.0, 'O2_tx': 0.0, 'RXN-7676_p': 0.0, 'RXN1F-66_p_reverse': 0.0, 'coef1': -0.0004162566601191682, 'SEDOHEPTULOSE-BISPHOSPHATASE-RXN_p': 0.0, 'RIBULOSE-BISPHOSPHATE-CARBOXYLASE-RXN_p_reverse': 0.0, 'RIB5PISOM-RXN_p': 0.0, 'RIBULOSE-BISPHOSPHATE-CARBOXYLASE-RXN_p': 0.0, 'GAPOXNPHOSPHN-RXN_c': 0.0, 'NADPHoxc_tx_reverse': 0.0, 'RXN-7677_p': 0.0, 'PGLUCISOM-RXN_p': 0.0, 'PGLUCISOM-RXN_p_reverse': 0.0, 'ATP_ADP_Pi_pc_reverse': 0.0, 'NADPH_Dehydrogenase_p': 0.0, 'NADPHoxp_tx_reverse': 0.0, 'Starch_tx': -1.0, 'TRIOSEPISOMERIZATION-RXN_p': 0.0, 'CO2_tx_reverse': 0.0, '2TRANSKETO-RXN_p_reverse': 0.0, 'ATP_ADP_Pi_pc': 0.0, 'GAP_3PGA_pc_reverse': 0.0, 'MALATE-DEH-RXN_c_reverse': 0.0, 'OAA_MAL_pc': 0.0, '1TRANSKETO-RXN_p': 0.0, 'H2O_tx_reverse': 0.0, 'GLUC1PADENYLTRANS-RXN_p': 0.0, 'MALATE-DEH-RXN_p_reverse': 0.0, 'PYRNUTRANSHYDROGEN-RXN_c': 0.0, 'RIBULP3EPIM-RXN_p': 1000.0, 'RIBULP3EPIM-RXN_p_reverse': 0.0, 'MALATE-DEH-RXN_c': 0.0, 'RXN-7679_p': 0.0, 'O2_tx_reverse': 0.0, 'CO2_pc_reverse': 0.0, 'H2O_pc_reverse': 0.0, 'PHOSGLYPHOS-RXN_c_reverse': 0.0, 'MALATE-DEH-RXN_p': 0.0, 'INORGPYROPHOSPHAT-RXN_p': 0.0}\n",
      "{'GLUC1PADENYLTRANS-RXN_p': -0.0007085210528377244, 'RIBULP3EPIM-RXN_p': -0.000527652631441517, 'CO2_tx': -0.0004723473685584829}\n",
      "{'RXN1F-66_p': 0.0, 'GLYCOGENSYN-RXN_p': 0.0, 'PHOSPHOGLUCMUT-RXN_p': 0.0, 'GAP_3PGA_pc': 0.0, 'Starch_tx_reverse': 0.0, 'Plastidial_ATP_Synthase_p': 0.0, 'PHOSPHORIBULOKINASE-RXN_p': 0.0, 'PHOSPHOGLUCMUT-RXN_p_reverse': 0.0, 'PHOSGLYPHOS-RXN_c': 0.0, 'RXN-7678-NAD_p': 0.0, 'GAPOXNPHOSPHN-RXN_c_reverse': 0.0, 'Obj1': 1000.0, 'Obj2': 2000.0, '1.18.1.2-RXN_p': 0.0, 'RXN-7674_p': 0.0, '1TRANSKETO-RXN_p_reverse': 0.0, 'NADPHoxp_tx': 0.0, 'F16BDEPHOS-RXN_p': 0.0, 'RIB5PISOM-RXN_p_reverse': 0.0, 'Plastoquinol_Oxidase_p': 0.0, 'RXN-7678-NAD_p_reverse': 0.0, 'coef2': -0.00023617368427924145, 'SEDOBISALDOL-RXN_p': 0.0, 'CO2_pc': 0.0, 'OAA_MAL_pc_reverse': 0.0, 'O2_pc': -1.0, 'TRIOSEPISOMERIZATION-RXN_p_reverse': 0.0, 'NADPHoxc_tx': 0.0, '1.18.1.2-RXN_p_reverse': 0.0, 'O2_pc_reverse': 0.0, 'H2O_tx': 0.0, 'F16ALDOLASE-RXN_p_reverse': 0.0, 'H2O_pc': 0.0, 'CO2_tx': 1000.0, 'F16ALDOLASE-RXN_p': 0.0, '2TRANSKETO-RXN_p': 0.0, 'O2_tx': 0.0, 'RXN-7676_p': 0.0, 'RXN1F-66_p_reverse': 0.0, 'coef1': -0.000527652631441517, 'SEDOHEPTULOSE-BISPHOSPHATASE-RXN_p': 0.0, 'RIBULOSE-BISPHOSPHATE-CARBOXYLASE-RXN_p_reverse': 0.0, 'RIB5PISOM-RXN_p': 0.0, 'RIBULOSE-BISPHOSPHATE-CARBOXYLASE-RXN_p': 0.0, 'GAPOXNPHOSPHN-RXN_c': 0.0, 'NADPHoxc_tx_reverse': 0.0, 'RXN-7677_p': 0.0, 'PGLUCISOM-RXN_p': 0.0, 'PGLUCISOM-RXN_p_reverse': 0.0, 'ATP_ADP_Pi_pc_reverse': 0.0, 'NADPH_Dehydrogenase_p': 0.0, 'NADPHoxp_tx_reverse': 0.0, 'Starch_tx': -1.0, 'TRIOSEPISOMERIZATION-RXN_p': 0.0, 'CO2_tx_reverse': 0.0, '2TRANSKETO-RXN_p_reverse': 0.0, 'ATP_ADP_Pi_pc': 0.0, 'GAP_3PGA_pc_reverse': 0.0, 'MALATE-DEH-RXN_c_reverse': 0.0, 'OAA_MAL_pc': 0.0, '1TRANSKETO-RXN_p': 0.0, 'H2O_tx_reverse': 0.0, 'GLUC1PADENYLTRANS-RXN_p': 0.0, 'MALATE-DEH-RXN_p_reverse': 0.0, 'PYRNUTRANSHYDROGEN-RXN_c': 0.0, 'RIBULP3EPIM-RXN_p': 1000.0, 'RIBULP3EPIM-RXN_p_reverse': 0.0, 'MALATE-DEH-RXN_c': 0.0, 'RXN-7679_p': 0.0, 'O2_tx_reverse': 0.0, 'CO2_pc_reverse': 0.0, 'H2O_pc_reverse': 0.0, 'PHOSGLYPHOS-RXN_c_reverse': 0.0, 'MALATE-DEH-RXN_p': 0.0, 'INORGPYROPHOSPHAT-RXN_p': 0.0}\n"
     ]
    },
    {
     "data": {
      "text/html": [
       "<div>\n",
       "<style scoped>\n",
       "    .dataframe tbody tr th:only-of-type {\n",
       "        vertical-align: middle;\n",
       "    }\n",
       "\n",
       "    .dataframe tbody tr th {\n",
       "        vertical-align: top;\n",
       "    }\n",
       "\n",
       "    .dataframe thead th {\n",
       "        text-align: right;\n",
       "    }\n",
       "</style>\n",
       "<table border=\"1\" class=\"dataframe\">\n",
       "  <thead>\n",
       "    <tr style=\"text-align: right;\">\n",
       "      <th></th>\n",
       "      <th>Obj1</th>\n",
       "      <th>Obj2</th>\n",
       "    </tr>\n",
       "  </thead>\n",
       "  <tbody>\n",
       "    <tr>\n",
       "      <th>0</th>\n",
       "      <td>1000.0</td>\n",
       "      <td>2000.0</td>\n",
       "    </tr>\n",
       "    <tr>\n",
       "      <th>0</th>\n",
       "      <td>1000.0</td>\n",
       "      <td>2000.0</td>\n",
       "    </tr>\n",
       "    <tr>\n",
       "      <th>1</th>\n",
       "      <td>1000.0</td>\n",
       "      <td>2000.0</td>\n",
       "    </tr>\n",
       "    <tr>\n",
       "      <th>2</th>\n",
       "      <td>1000.0</td>\n",
       "      <td>2000.0</td>\n",
       "    </tr>\n",
       "    <tr>\n",
       "      <th>3</th>\n",
       "      <td>1000.0</td>\n",
       "      <td>2000.0</td>\n",
       "    </tr>\n",
       "    <tr>\n",
       "      <th>4</th>\n",
       "      <td>1000.0</td>\n",
       "      <td>2000.0</td>\n",
       "    </tr>\n",
       "    <tr>\n",
       "      <th>5</th>\n",
       "      <td>1000.0</td>\n",
       "      <td>2000.0</td>\n",
       "    </tr>\n",
       "    <tr>\n",
       "      <th>6</th>\n",
       "      <td>1000.0</td>\n",
       "      <td>2000.0</td>\n",
       "    </tr>\n",
       "    <tr>\n",
       "      <th>7</th>\n",
       "      <td>1000.0</td>\n",
       "      <td>2000.0</td>\n",
       "    </tr>\n",
       "    <tr>\n",
       "      <th>8</th>\n",
       "      <td>1000.0</td>\n",
       "      <td>2000.0</td>\n",
       "    </tr>\n",
       "    <tr>\n",
       "      <th>9</th>\n",
       "      <td>1000.0</td>\n",
       "      <td>2000.0</td>\n",
       "    </tr>\n",
       "  </tbody>\n",
       "</table>\n",
       "</div>"
      ],
      "text/plain": [
       "     Obj1    Obj2\n",
       "0  1000.0  2000.0\n",
       "0  1000.0  2000.0\n",
       "1  1000.0  2000.0\n",
       "2  1000.0  2000.0\n",
       "3  1000.0  2000.0\n",
       "4  1000.0  2000.0\n",
       "5  1000.0  2000.0\n",
       "6  1000.0  2000.0\n",
       "7  1000.0  2000.0\n",
       "8  1000.0  2000.0\n",
       "9  1000.0  2000.0"
      ]
     },
     "execution_count": 27,
     "metadata": {},
     "output_type": "execute_result"
    }
   ],
   "source": [
    "# PARETO \n",
    "the_sample = [['RIBULP3EPIM-RXN_p'], {'GLUC1PADENYLTRANS-RXN_p':3, 'CO2_tx':2}]\n",
    "m.Pareto(the_sample, \"Min\", 10) # every single run outputs the same result "
   ]
  },
  {
   "cell_type": "code",
   "execution_count": 34,
   "metadata": {},
   "outputs": [],
   "source": [
    "# FLUX SUM\n",
    "m.FluxSum('GLC-6-P_p')"
   ]
  },
  {
   "cell_type": "code",
   "execution_count": 35,
   "metadata": {},
   "outputs": [
    {
     "data": {
      "text/html": [
       "<div>\n",
       "<style scoped>\n",
       "    .dataframe tbody tr th:only-of-type {\n",
       "        vertical-align: middle;\n",
       "    }\n",
       "\n",
       "    .dataframe tbody tr th {\n",
       "        vertical-align: top;\n",
       "    }\n",
       "\n",
       "    .dataframe thead th {\n",
       "        text-align: right;\n",
       "    }\n",
       "</style>\n",
       "<table border=\"1\" class=\"dataframe\">\n",
       "  <thead>\n",
       "    <tr style=\"text-align: right;\">\n",
       "      <th></th>\n",
       "      <th>1.18.1.2-RXN_p</th>\n",
       "      <th>1.18.1.2-RXN_p_reverse</th>\n",
       "      <th>1TRANSKETO-RXN_p</th>\n",
       "      <th>1TRANSKETO-RXN_p_reverse</th>\n",
       "      <th>2TRANSKETO-RXN_p</th>\n",
       "      <th>2TRANSKETO-RXN_p_reverse</th>\n",
       "      <th>ATP_ADP_Pi_pc</th>\n",
       "      <th>ATP_ADP_Pi_pc_reverse</th>\n",
       "      <th>CO2_pc</th>\n",
       "      <th>CO2_pc_reverse</th>\n",
       "      <th>...</th>\n",
       "      <th>RXN-7678-NAD_p_reverse</th>\n",
       "      <th>RXN-7679_p</th>\n",
       "      <th>RXN1F-66_p</th>\n",
       "      <th>RXN1F-66_p_reverse</th>\n",
       "      <th>SEDOBISALDOL-RXN_p</th>\n",
       "      <th>SEDOHEPTULOSE-BISPHOSPHATASE-RXN_p</th>\n",
       "      <th>Starch_tx</th>\n",
       "      <th>Starch_tx_reverse</th>\n",
       "      <th>TRIOSEPISOMERIZATION-RXN_p</th>\n",
       "      <th>TRIOSEPISOMERIZATION-RXN_p_reverse</th>\n",
       "    </tr>\n",
       "  </thead>\n",
       "  <tbody>\n",
       "    <tr>\n",
       "      <th>0</th>\n",
       "      <td>-24.166667</td>\n",
       "      <td>0.0</td>\n",
       "      <td>2.0</td>\n",
       "      <td>0.0</td>\n",
       "      <td>-2.0</td>\n",
       "      <td>0.0</td>\n",
       "      <td>12.0</td>\n",
       "      <td>0.0</td>\n",
       "      <td>-6.0</td>\n",
       "      <td>0.0</td>\n",
       "      <td>...</td>\n",
       "      <td>0.0</td>\n",
       "      <td>0.0</td>\n",
       "      <td>-2.0</td>\n",
       "      <td>0.0</td>\n",
       "      <td>0.0</td>\n",
       "      <td>0.0</td>\n",
       "      <td>-1.0</td>\n",
       "      <td>0.0</td>\n",
       "      <td>5.0</td>\n",
       "      <td>0.0</td>\n",
       "    </tr>\n",
       "  </tbody>\n",
       "</table>\n",
       "<p>1 rows × 71 columns</p>\n",
       "</div>"
      ],
      "text/plain": [
       "   1.18.1.2-RXN_p  1.18.1.2-RXN_p_reverse  1TRANSKETO-RXN_p  \\\n",
       "0      -24.166667                     0.0               2.0   \n",
       "\n",
       "   1TRANSKETO-RXN_p_reverse  2TRANSKETO-RXN_p  2TRANSKETO-RXN_p_reverse  \\\n",
       "0                       0.0              -2.0                       0.0   \n",
       "\n",
       "   ATP_ADP_Pi_pc  ATP_ADP_Pi_pc_reverse  CO2_pc  CO2_pc_reverse  \\\n",
       "0           12.0                    0.0    -6.0             0.0   \n",
       "\n",
       "                  ...                  RXN-7678-NAD_p_reverse  RXN-7679_p  \\\n",
       "0                 ...                                     0.0         0.0   \n",
       "\n",
       "   RXN1F-66_p  RXN1F-66_p_reverse  SEDOBISALDOL-RXN_p  \\\n",
       "0        -2.0                 0.0                 0.0   \n",
       "\n",
       "   SEDOHEPTULOSE-BISPHOSPHATASE-RXN_p  Starch_tx  Starch_tx_reverse  \\\n",
       "0                                 0.0       -1.0                0.0   \n",
       "\n",
       "   TRIOSEPISOMERIZATION-RXN_p  TRIOSEPISOMERIZATION-RXN_p_reverse  \n",
       "0                         5.0                                 0.0  \n",
       "\n",
       "[1 rows x 71 columns]"
      ]
     },
     "execution_count": 35,
     "metadata": {},
     "output_type": "execute_result"
    }
   ],
   "source": [
    "# FLUX RANGE\n",
    "m.RandomMinFlux()"
   ]
  },
  {
   "cell_type": "code",
   "execution_count": 37,
   "metadata": {},
   "outputs": [
    {
     "data": {
      "text/plain": [
       "{'1.18.1.2-RXN_p': 5,\n",
       " '1TRANSKETO-RXN_p': 4,\n",
       " '2TRANSKETO-RXN_p': 4,\n",
       " 'ATP_ADP_Pi_pc': 6,\n",
       " 'CO2_pc': 2,\n",
       " 'CO2_tx': 1,\n",
       " 'F16ALDOLASE-RXN_p': 3,\n",
       " 'F16BDEPHOS-RXN_p': 4,\n",
       " 'GAPOXNPHOSPHN-RXN_c': 6,\n",
       " 'GAP_3PGA_pc': 4,\n",
       " 'GLUC1PADENYLTRANS-RXN_p': 5,\n",
       " 'GLYCOGENSYN-RXN_p': 4,\n",
       " 'H2O_pc': 2,\n",
       " 'H2O_tx': 1,\n",
       " 'INORGPYROPHOSPHAT-RXN_p': 4,\n",
       " 'MALATE-DEH-RXN_c': 5,\n",
       " 'MALATE-DEH-RXN_p': 5,\n",
       " 'NADPH_Dehydrogenase_p': 6,\n",
       " 'NADPHoxc_tx': 5,\n",
       " 'NADPHoxp_tx': 5,\n",
       " 'O2_pc': 2,\n",
       " 'O2_tx': 1,\n",
       " 'OAA_MAL_pc': 4,\n",
       " 'PGLUCISOM-RXN_p': 2,\n",
       " 'PHOSGLYPHOS-RXN_c': 4,\n",
       " 'PHOSPHOGLUCMUT-RXN_p': 2,\n",
       " 'PHOSPHORIBULOKINASE-RXN_p': 5,\n",
       " 'PYRNUTRANSHYDROGEN-RXN_c': 4,\n",
       " 'Plastidial_ATP_Synthase_p': 6,\n",
       " 'Plastoquinol_Oxidase_p': 4,\n",
       " 'RIB5PISOM-RXN_p': 2,\n",
       " 'RIBULOSE-BISPHOSPHATE-CARBOXYLASE-RXN_p': 5,\n",
       " 'RIBULP3EPIM-RXN_p': 2,\n",
       " 'RXN-7674_p': 5,\n",
       " 'RXN-7676_p': 7,\n",
       " 'RXN-7677_p': 7,\n",
       " 'RXN-7678-NAD_p': 4,\n",
       " 'RXN-7679_p': 6,\n",
       " 'RXN1F-66_p': 5,\n",
       " 'SEDOBISALDOL-RXN_p': 3,\n",
       " 'SEDOHEPTULOSE-BISPHOSPHATASE-RXN_p': 4,\n",
       " 'Starch_tx': 1,\n",
       " 'TRIOSEPISOMERIZATION-RXN_p': 2}"
      ]
     },
     "execution_count": 37,
     "metadata": {},
     "output_type": "execute_result"
    }
   ],
   "source": [
    "# GRAPHS\n",
    "m.DeadEndMetabolites()\n",
    "m.PeripheralMetabolites()\n",
    "m.ChokepointReactions()\n",
    "m.GetNeighbours('GLC-6-P_p')\n",
    "m.DegreeDist()\n",
    "m.MetabolitesDegree()\n",
    "m.ReactionsDegree()"
   ]
  },
  {
   "cell_type": "code",
   "execution_count": null,
   "metadata": {},
   "outputs": [],
   "source": [
    "end = timeit.default_timer()\n",
    "print(end - start)"
   ]
  },
  {
   "cell_type": "code",
   "execution_count": null,
   "metadata": {},
   "outputs": [],
   "source": [
    "#import random\n",
    "#sample = random.sample(range(len(m.Reactions())), 3)\n",
    "#sample\n",
    "#the_sample = [m.Reactions()[x] for x in sample]\n",
    "#the_sample = ['PHOSGLYPHOS_RXN_c', 'H_tx', 'F16BDEPHOS_RXN_c']"
   ]
  }
 ],
 "metadata": {
  "kernelspec": {
   "display_name": "Python 2",
   "language": "python",
   "name": "python2"
  },
  "language_info": {
   "codemirror_mode": {
    "name": "ipython",
    "version": 2
   },
   "file_extension": ".py",
   "mimetype": "text/x-python",
   "name": "python",
   "nbconvert_exporter": "python",
   "pygments_lexer": "ipython2",
   "version": "2.7.12"
  }
 },
 "nbformat": 4,
 "nbformat_minor": 2
}

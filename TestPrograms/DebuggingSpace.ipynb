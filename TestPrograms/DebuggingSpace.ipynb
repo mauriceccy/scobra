{
 "cells": [
  {
   "cell_type": "code",
   "execution_count": 2,
   "metadata": {},
   "outputs": [],
   "source": [
    "bfr = {'1TRANSKETO_RXN_p': 3.9999999999999987,\n",
    " '1_PERIOD_10_PERIOD_2_PERIOD_2_RXN_mi': 1.4333333333328042,\n",
    " '1_PERIOD_18_PERIOD_1_PERIOD_2_RXN_p': 25.433333333332804,\n",
    " '1_PERIOD_2_PERIOD_1_PERIOD_13_RXN_p': 23.999999999999993,\n",
    " '2TRANSKETO_RXN_p_reverse': 3.9999999999999987,\n",
    " 'ATP_ADP_Pi_pc_reverse': 3.2999999999984184,\n",
    " 'ATP_ADP_mc': 4.299999999998416,\n",
    " 'CO2_ec': 11.999999999999998,\n",
    " 'CO2_pc_reverse': 11.999999999999996,\n",
    " 'CO2_tx': 11.999999999999998,\n",
    " 'CYTOCHROME_C_OXIDASE_RXN_mi': 0.7166666666664021,\n",
    " 'DHAP_Pi_pc': 1.0,\n",
    " 'F16ALDOLASE_RXN_c_reverse': 0.9999999999999994,\n",
    " 'F16ALDOLASE_RXN_p_reverse': 4.999999999999999,\n",
    " 'F16BDEPHOS_RXN_c': 0.9999999999999998,\n",
    " 'F16BDEPHOS_RXN_p': 4.999999999999999,\n",
    " 'G6P_Pi_pc': 1.0000000000000004,\n",
    " 'GAP_Pi_pc': 1.0000000000000007,\n",
    " 'GLUC1PURIDYLTRANS_RXN_c': 1.0,\n",
    " 'H2O_ec': 11.000000000000009,\n",
    " 'H2O_mc': 5.733333333331215,\n",
    " 'H2O_pc_reverse': 13.733333333331226,\n",
    " 'H2O_tx': 11.000000000000009,\n",
    " 'H_pc': 3.2999999999983993,\n",
    " 'H_tx': 1.0,\n",
    " 'INORGPYROPHOSPHAT_RXN_c': 0.9999999999999961,\n",
    " 'MALATE_DEHYDROGENASE_NADPs_RXN_p': 1.4333333333328095,\n",
    " 'MALATE_DEH_RXN_m': 1.4333333333328027,\n",
    " 'Mitochondrial_ATP_Synthase_m': 1.433333333332804,\n",
    " 'NADH_DEHYDROG_A_RXN_mi': 1.433333333332804,\n",
    " 'O2_ec_reverse': 12.0,\n",
    " 'O2_mc_reverse': 0.7166666666664021,\n",
    " 'O2_pc': 12.716666666666402,\n",
    " 'O2_tx_reverse': 12.0,\n",
    " 'OAA_MAL_mc': 1.433333333332802,\n",
    " 'OAA_MAL_pc_reverse': 1.4333333333328007,\n",
    " 'PGLUCISOM_RXN_p_reverse': 1.0000000000000004,\n",
    " 'PHOSGLYPHOS_RXN_p': 23.999999999999993,\n",
    " 'PHOSPHOGLUCMUT_RXN_c_reverse': 1.0,\n",
    " 'PHOSPHORIBULOKINASE_RXN_p': 11.999999999999996,\n",
    " 'PLASTOQUINOL_PLASTOCYANIN_REDUCTASE_RXN_p': 25.43333333333412,\n",
    " 'PSII_RXN_p': 12.716666666666402,\n",
    " 'Photon_ep': 101.73333333333385,\n",
    " 'Photon_tx': 101.73333333333385,\n",
    " 'Pi_PROTON_mc_reverse': 4.29999999999841,\n",
    " 'Plastidial_ATP_Synthase_p': 10.900000000000524,\n",
    " 'RIB5PISOM_RXN_p': 3.9999999999999987,\n",
    " 'RIBULOSE_BISPHOSPHATE_CARBOXYLASE_RXN_p': 11.999999999999996,\n",
    " 'RIBULP3EPIM_RXN_p_reverse': 7.999999999999997,\n",
    " 'RXN490_3650_p': 50.86666666666824,\n",
    " 'SEDOBISALDOL_RXN_p': 3.9999999999999987,\n",
    " 'SEDOHEPTULOSE_BISPHOSPHATASE_RXN_p': 3.9999999999999987,\n",
    " 'SUCROSE_PHOSPHATASE_RXN_c': 1.0,\n",
    " 'SUCROSE_PHOSPHATE_SYNTHASE_RXN_c': 1.0,\n",
    " 'Sucrose_ec_reverse': 1.0,\n",
    " 'Sucrose_tx_reverse': 1.0,\n",
    " 'TRIOSEPISOMERIZATION_RXN_p': 9.999999999999996,\n",
    " 'UDPKIN_RXN_c': 1.0,\n",
    " 'unlProtHYPO_c': 1.0000000000000098}"
   ]
  },
  {
   "cell_type": "code",
   "execution_count": 4,
   "metadata": {},
   "outputs": [],
   "source": [
    "aft = {'1TRANSKETO_RXN_p': 3.999999999999998,\n",
    " '1_PERIOD_10_PERIOD_2_PERIOD_2_RXN_mi': 1.4333333333349554,\n",
    " '1_PERIOD_18_PERIOD_1_PERIOD_2_RXN_p': 25.433333333334954,\n",
    " '1_PERIOD_2_PERIOD_1_PERIOD_13_RXN_p': 23.999999999999993,\n",
    " 'ATP_ADP_mc': 4.30000000000487,\n",
    " 'CO2_ec': 11.999999999999995,\n",
    " 'CO2_tx': 11.999999999999995,\n",
    " 'CYTOCHROME_C_OXIDASE_RXN_mi': 0.7166666666674777,\n",
    " 'DHAP_Pi_pc': 2.0,\n",
    " 'F16BDEPHOS_RXN_c': 2.0,\n",
    " 'F16BDEPHOS_RXN_p': 3.999999999999999,\n",
    " 'GAP_Pi_pc': 2.0,\n",
    " 'GLUC1PURIDYLTRANS_RXN_c': 1.0,\n",
    " 'H2O_ec': 11.000000000000004,\n",
    " 'H2O_mc': 5.733333333339825,\n",
    " 'H2O_tx': 11.000000000000004,\n",
    " 'H_pc': 3.300000000004861,\n",
    " 'H_tx': 1.0,\n",
    " 'INORGPYROPHOSPHAT_RXN_c': 0.999999999999999,\n",
    " 'MALATE_DEHYDROGENASE_NADPs_RXN_p': 1.433333333334957,\n",
    " 'MALATE_DEH_RXN_m': 1.4333333333349578,\n",
    " 'Mitochondrial_ATP_Synthase_m': 1.433333333334956,\n",
    " 'NADH_DEHYDROG_A_RXN_mi': 1.4333333333349572,\n",
    " 'O2_pc': 12.716666666667477,\n",
    " 'OAA_MAL_mc': 1.4333333333349576,\n",
    " 'PHOSGLYPHOS_RXN_p': 23.999999999999993,\n",
    " 'PHOSPHORIBULOKINASE_RXN_p': 11.999999999999993,\n",
    " 'PLASTOQUINOL_PLASTOCYANIN_REDUCTASE_RXN_p': 25.43333333333089,\n",
    " 'PSII_RXN_p': 12.716666666667477,\n",
    " 'Photon_ep': 101.73333333333169,\n",
    " 'Photon_tx': 101.73333333333169,\n",
    " 'Plastidial_ATP_Synthase_p': 10.899999999998371,\n",
    " 'RIB5PISOM_RXN_p': 3.999999999999998,\n",
    " 'RIBULOSE_BISPHOSPHATE_CARBOXYLASE_RXN_p': 11.999999999999993,\n",
    " 'RXN490_3650_p': 50.86666666666178,\n",
    " 'SEDOBISALDOL_RXN_p': 3.999999999999998,\n",
    " 'SEDOHEPTULOSE_BISPHOSPHATASE_RXN_p': 3.999999999999998,\n",
    " 'SUCROSE_PHOSPHATASE_RXN_c': 1.0,\n",
    " 'SUCROSE_PHOSPHATE_SYNTHASE_RXN_c': 1.0,\n",
    " 'TRIOSEPISOMERIZATION_RXN_p': 9.999999999999996,\n",
    " 'UDPKIN_RXN_c': 1.0,\n",
    " 'unlProtHYPO_c': 1.0000000000000036}"
   ]
  },
  {
   "cell_type": "code",
   "execution_count": 14,
   "metadata": {},
   "outputs": [
    {
     "data": {
      "text/plain": [
       "['RIBULP3EPIM_RXN_p_reverse',\n",
       " 'O2_ec_reverse',\n",
       " 'F16ALDOLASE_RXN_p_reverse',\n",
       " 'F16ALDOLASE_RXN_c_reverse',\n",
       " 'PHOSPHOGLUCMUT_RXN_c_reverse',\n",
       " 'OAA_MAL_pc_reverse',\n",
       " 'Pi_PROTON_mc_reverse',\n",
       " 'ATP_ADP_Pi_pc_reverse',\n",
       " 'O2_mc_reverse',\n",
       " 'Sucrose_ec_reverse',\n",
       " 'Sucrose_tx_reverse',\n",
       " 'PGLUCISOM_RXN_p_reverse',\n",
       " '2TRANSKETO_RXN_p_reverse',\n",
       " 'O2_tx_reverse',\n",
       " 'CO2_pc_reverse',\n",
       " 'H2O_pc_reverse']"
      ]
     },
     "execution_count": 14,
     "metadata": {},
     "output_type": "execute_result"
    }
   ],
   "source": [
    "count = []\n",
    "for i in bfr: \n",
    "    if 'reverse' in i:\n",
    "        count.append(i)\n",
    "count"
   ]
  },
  {
   "cell_type": "code",
   "execution_count": 1,
   "metadata": {},
   "outputs": [],
   "source": [
    "import os, sys, inspect\n",
    "currentdir = os.path.dirname(os.path.abspath(inspect.getfile(inspect.currentframe())))\n",
    "gparentdir = os.path.dirname(os.path.dirname(currentdir))\n",
    "sys.path.insert(0, gparentdir)\n",
    "import scobra"
   ]
  },
  {
   "cell_type": "code",
   "execution_count": 2,
   "metadata": {},
   "outputs": [],
   "source": [
    "this = scobra.Model('/home/kristoforus/Desktop/debugmodel.xls')\n",
    "this.SetObjective(\"Reaction-11\")\n",
    "this.SetObjDirec(\"Min\")"
   ]
  },
  {
   "cell_type": "code",
   "execution_count": 3,
   "metadata": {
    "scrolled": true
   },
   "outputs": [
    {
     "name": "stdout",
     "output_type": "stream",
     "text": [
      "optimal\n"
     ]
    }
   ],
   "source": [
    "this.MinFluxSolve()"
   ]
  },
  {
   "cell_type": "code",
   "execution_count": 4,
   "metadata": {},
   "outputs": [
    {
     "data": {
      "text/plain": [
       "{'Reaction-10': 990.0,\n",
       " 'Reaction-11': -1000.0,\n",
       " 'Reaction-5': 990.0,\n",
       " 'Reaction-6': 990.0,\n",
       " 'Reaction-7': -10.0,\n",
       " 'Reaction-8': -10.0}"
      ]
     },
     "execution_count": 4,
     "metadata": {},
     "output_type": "execute_result"
    }
   ],
   "source": [
    "this.GetSol()"
   ]
  }
 ],
 "metadata": {
  "kernelspec": {
   "display_name": "Python 2",
   "language": "python",
   "name": "python2"
  },
  "language_info": {
   "codemirror_mode": {
    "name": "ipython",
    "version": 2
   },
   "file_extension": ".py",
   "mimetype": "text/x-python",
   "name": "python",
   "nbconvert_exporter": "python",
   "pygments_lexer": "ipython2",
   "version": "2.7.12"
  }
 },
 "nbformat": 4,
 "nbformat_minor": 2
}

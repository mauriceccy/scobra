{
 "cells": [
  {
   "cell_type": "code",
   "execution_count": 10,
   "metadata": {},
   "outputs": [],
   "source": [
    "import re "
   ]
  },
  {
   "cell_type": "code",
   "execution_count": 11,
   "metadata": {},
   "outputs": [],
   "source": [
    "\n",
    "\n",
    "p = '\\s*def (.*)\\(.*'\n",
    "p_easy = '\\s*def (.*)\\(self*'\n",
    "p_self = '\\s*def (.*)\\(self\\).*'\n"
   ]
  },
  {
   "cell_type": "code",
   "execution_count": 12,
   "metadata": {},
   "outputs": [],
   "source": [
    "def get_function_names(file): \n",
    "\tthelist = []\n",
    "\tfor i, line in file:\n",
    "\t\tif re.match(p, line) != None: \n",
    "\t\t\tthelist.append(re.match(p, line).group(1))\n",
    "\t\telse: \n",
    "\t\t\tpass\n",
    "\tprint thelist\n",
    "\treturn thelist\n",
    "\n",
    "def get_function_names_easy(file): \n",
    "\tthelist = []\n",
    "\tfor i, line in file:\n",
    "\t\tif re.match(p_easy, line) != None: \n",
    "\t\t\tthelist.append(re.match(p_easy, line).group(1))\n",
    "\t\telse: \n",
    "\t\t\tpass\n",
    "\tprint thelist\n",
    "\treturn thelist\n",
    "\n",
    "def get_functions_self_only(file): \n",
    "\tself_only = []\n",
    "\tmore = []\n",
    "\tfor i, line in file: \n",
    "\t\tif re.match(p_self, line) != None: \n",
    "\t\t\tself_only.append(re.match(p_self,line).group(1))\n",
    "\t\telif re.match(p, line) != None: \n",
    "\t\t\tmore.append(re.match(p, line).group(1))\n",
    "\t\telse: \n",
    "\t\t\tpass\n",
    "\treturn self_only, more\n",
    "\t"
   ]
  }
 ],
 "metadata": {
  "kernelspec": {
   "display_name": "Python 2",
   "language": "python",
   "name": "python2"
  },
  "language_info": {
   "codemirror_mode": {
    "name": "ipython",
    "version": 2
   },
   "file_extension": ".py",
   "mimetype": "text/x-python",
   "name": "python",
   "nbconvert_exporter": "python",
   "pygments_lexer": "ipython2",
   "version": "2.7.12"
  }
 },
 "nbformat": 4,
 "nbformat_minor": 2
}

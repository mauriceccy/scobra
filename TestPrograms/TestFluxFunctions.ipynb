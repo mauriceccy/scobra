{
 "cells": [
  {
   "cell_type": "code",
   "execution_count": 2,
   "metadata": {},
   "outputs": [
    {
     "name": "stderr",
     "output_type": "stream",
     "text": [
      "cobra/core/reaction.py:394 \u001b[1;31mUserWarning\u001b[0m: malformed gene_reaction_rule '(  )' for <Reaction HEXOKINASE_RXN_MANNOSE_c2 at 0x7f9f6c86b8d0>\n",
      "cobra/core/reaction.py:394 \u001b[1;31mUserWarning\u001b[0m: malformed gene_reaction_rule '(  )' for <Reaction HEXOKINASE_RXN_MANNOSE_c1 at 0x7f9f6c86b810>\n"
     ]
    }
   ],
   "source": [
    "import os, sys, inspect\n",
    "currentdir = os.path.dirname(os.path.abspath(inspect.getfile(inspect.currentframe())))\n",
    "gparentdir = os.path.dirname(os.path.dirname(currentdir))\n",
    "sys.path.insert(0, gparentdir)\n",
    "import scobra\n",
    "import get_all_functions as gaf\n",
    "import re\n",
    "n = scobra.Model(\"sample/Supplemental-Data-S1_Core-Leaf-Model.xml\")\n",
    "m = scobra.model(n)"
   ]
  },
  {
   "cell_type": "code",
   "execution_count": 6,
   "metadata": {},
   "outputs": [],
   "source": [
    "m.SetFixedFlux({'H2O_ec1':100, 'SUPEROX_DISMUT_RXN_c2': 200, 'RXN66_1_c1': 300})"
   ]
  },
  {
   "cell_type": "code",
   "execution_count": 12,
   "metadata": {},
   "outputs": [],
   "source": [
    "import scobra.classes.flux as flux"
   ]
  },
  {
   "cell_type": "code",
   "execution_count": 21,
   "metadata": {},
   "outputs": [],
   "source": [
    "f = flux.flux({'H2O_ec1':100, 'SUPEROX_DISMUT_RXN_c2': 200, 'RXN66_1_c1': 300})"
   ]
  },
  {
   "cell_type": "code",
   "execution_count": 23,
   "metadata": {},
   "outputs": [
    {
     "name": "stdout",
     "output_type": "stream",
     "text": [
      "RXN66_1_c1: 300\n",
      "SUPEROX_DISMUT_RXN_c2: 200\n",
      "H2O_ec1: 100\n"
     ]
    },
    {
     "data": {
      "text/plain": [
       "{'H2O_ec1': 100, 'RXN66_1_c1': 300, 'SUPEROX_DISMUT_RXN_c2': 200}"
      ]
     },
     "execution_count": 23,
     "metadata": {},
     "output_type": "execute_result"
    }
   ],
   "source": [
    "f.__call__()\n",
    "f.Filter()\n",
    "f.Print()\n",
    "f.Diff({'H2O_ec1':100, 'SUPEROX_DISMUT_RXN_c2': 200})\n",
    "f.AsMtx()\n",
    "f.Copy()"
   ]
  },
  {
   "cell_type": "code",
   "execution_count": null,
   "metadata": {},
   "outputs": [],
   "source": [
    "print('Test Completed')"
   ]
  }
 ],
 "metadata": {
  "kernelspec": {
   "display_name": "Python 2",
   "language": "python",
   "name": "python2"
  },
  "language_info": {
   "codemirror_mode": {
    "name": "ipython",
    "version": 2
   },
   "file_extension": ".py",
   "mimetype": "text/x-python",
   "name": "python",
   "nbconvert_exporter": "python",
   "pygments_lexer": "ipython2",
   "version": "2.7.12"
  }
 },
 "nbformat": 4,
 "nbformat_minor": 2
}

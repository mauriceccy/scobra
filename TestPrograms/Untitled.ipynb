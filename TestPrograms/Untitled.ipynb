{
 "cells": [
  {
   "cell_type": "code",
   "execution_count": 1,
   "metadata": {},
   "outputs": [],
   "source": [
    "import os, sys, inspect\n",
    "currentdir = os.path.dirname(os.path.abspath(inspect.getfile(inspect.currentframe())))\n",
    "gparentdir = os.path.dirname(os.path.dirname(currentdir))\n",
    "sys.path.insert(0, gparentdir)\n",
    "import scobra\n",
    "import timeit\n",
    "start = timeit.default_timer()\n",
    "model_path = os.path.join(currentdir, \"sample\",\"testmodel2.xls\")\n",
    "n = scobra.Model(model_path)\n",
    "m = scobra.model(n)"
   ]
  },
  {
   "cell_type": "code",
   "execution_count": null,
   "metadata": {},
   "outputs": [],
   "source": [
    "def blockPrint():\n",
    "    sys.stdout = open(os.devnull, 'w')\n",
    "\n",
    "def enablePrint():\n",
    "    sys.stdout = sys.__stdout__\n",
    "\n",
    "blockPrint()"
   ]
  },
  {
   "cell_type": "code",
   "execution_count": 2,
   "metadata": {},
   "outputs": [
    {
     "data": {
      "text/plain": [
       "['GN7V-50316', 'GN7V-55310', 'GN7V-59272', 'GN7V-47214', 'GN7V-58257']"
      ]
     },
     "execution_count": 2,
     "metadata": {},
     "output_type": "execute_result"
    }
   ],
   "source": [
    "import random\n",
    "#[m.Reactions()[i] for i in random.sample(range(len(m.Reactions())), 5)]\n",
    "#[m.Metabolites()[i] for i in random.sample(range(len(m.Metabolites())), 5)]\n",
    "[m.Genes()[i] for i in random.sample(range(len(m.Genes())), 5)]"
   ]
  },
  {
   "cell_type": "code",
   "execution_count": 3,
   "metadata": {},
   "outputs": [],
   "source": [
    "# Creating sample reactions\n",
    "reac_sample = ['F16ALDOLASE-RXN_p','SEDOHEPTULOSE-BISPHOSPHATASE-RXN_p','Starch_tx','NADPHoxc_tx','ATP_ADP_Pi_pc']\n",
    "met_sample = ['ERYTHROSE-4P_p','CARBON-DIOXIDE_p','ADP-D-GLUCOSE_p','GLC-6-P_p','CHLOROPHYLLIDE-A_p']\n",
    "gen_sample = ['GN7V-60448', 'GN7V-62885', 'GN7V-45042', 'GN7V-44396', 'GN7V-63145']"
   ]
  },
  {
   "cell_type": "code",
   "execution_count": 4,
   "metadata": {},
   "outputs": [],
   "source": [
    "# MANIPULATING AND WRITING MODELS\n",
    "m.Copy()\n",
    "m.SubModel(reac_sample)\n",
    "m.DuplicateModel([\"_c\", \"_t\"])\n",
    "m.WriteModel(os.path.join(currentdir, \"misc\", \"writemodel.xls\"))\n",
    "m.WriteModel(os.path.join(currentdir, \"misc\", \"writemodel.sbml\"))\n",
    "m.WriteAttributes(os.path.join(currentdir, \"misc\", \"writeattr\"))\n",
    "m.WriteNetwork(os.path.join(currentdir, \"misc\", \"writenetwork\"))"
   ]
  },
  {
   "cell_type": "code",
   "execution_count": 5,
   "metadata": {
    "scrolled": true
   },
   "outputs": [
    {
     "name": "stdout",
     "output_type": "stream",
     "text": [
      "F16ALDOLASE-RXN_p\tFRUCTOSE-16-DIPHOSPHATE_p <=> DIHYDROXY-ACETONE-PHOSPHATE_p + GAP_p\n",
      "SEDOHEPTULOSE-BISPHOSPHATASE-RXN_p\tD-SEDOHEPTULOSE-1-7-P2_p + WATER_p --> D-SEDOHEPTULOSE-7-P_p + Pi_p\n",
      "Starch_tx\t <-- STARCH_p\n",
      "NADPHoxc_tx\tNADP_c + WATER_c <=> NADPH_c + 0.5 OXYGEN-MOLECULE_c + PROTON_c\n",
      "ATP_ADP_Pi_pc\tADP_c + ATP_p + Pi_c <=> ADP_p + ATP_c + Pi_p\n"
     ]
    },
    {
     "data": {
      "text/plain": [
       "{}"
      ]
     },
     "execution_count": 5,
     "metadata": {},
     "output_type": "execute_result"
    }
   ],
   "source": [
    "### REACTIONS \n",
    "# GETTING REACTIONS\n",
    "m.GetReactions(reac_sample)\n",
    "m.GetReactionNames(reac_sample)\n",
    "m.Isozymes()\n",
    "# PRINTING REACTIONS\n",
    "m.PrintReactions(reac_sample)\n",
    "# ADDING AND REMOVING REACTIONS\n",
    "m.AddReaction(\"R1\", {\"A\": 1, \"B\":-1})\n",
    "m.ChangeReactionStoichiometry(\"R1\", {\"A\": 2, \"B\":-5})\n",
    "m.DelReactions([\"R1\"])\n",
    "# IMBALANCE REACTIONS\n",
    "m.ImbalanceReactions()\n",
    "m.CheckReactionBalance(reac_sample[0])"
   ]
  },
  {
   "cell_type": "code",
   "execution_count": 6,
   "metadata": {},
   "outputs": [],
   "source": [
    "### METABOLITES\n",
    "# GETTING METABOLITES\n",
    "m.GetMetabolites(met_sample)\n",
    "m.GetMetaboliteNames(met_sample)\n",
    "m.Metabolites()\n",
    "# ADDING AND REMOVING METABOLITES\n",
    "m.AddReaction(\"R1\", {\"A\": 1, \"B\":-1})\n",
    "m.AddMetabolite(\"D\")\n",
    "m.SubstituteMetabolite(\"A\", \"D\")\n",
    "m.DelMetabolites([\"A\"])\n",
    "m.DelReaction(\"R1\")\n",
    "m.AddProtonsToMets({m.GetMetabolite(met_sample[1]): 2, m.GetMetabolite(met_sample[2]): 3},\"PROTON_p\")\n",
    "m.AssignMetabolitesNeutralFormula()"
   ]
  },
  {
   "cell_type": "code",
   "execution_count": 7,
   "metadata": {},
   "outputs": [
    {
     "name": "stdout",
     "output_type": "stream",
     "text": [
      "optimal\n"
     ]
    },
    {
     "data": {
      "text/plain": [
       "23.99999999999995"
      ]
     },
     "execution_count": 7,
     "metadata": {},
     "output_type": "execute_result"
    }
   ],
   "source": [
    "m.MinFluxSolve()\n",
    "m.FluxSum('G3P_c')"
   ]
  },
  {
   "cell_type": "code",
   "execution_count": 8,
   "metadata": {
    "scrolled": true
   },
   "outputs": [
    {
     "name": "stdout",
     "output_type": "stream",
     "text": [
      "optimal\n",
      "NADPHoxp_tx: 56.3333333333\n",
      "1.18.1.2-RXN_p: -48.3333333333\n",
      "NADPHoxc_tx: 28.0\n",
      "PHOSGLYPHOS-RXN_c: 24.0\n",
      "GAP_3PGA_pc: -24.0\n",
      "GAPOXNPHOSPHN-RXN_c: -24.0\n",
      "ATP_ADP_Pi_pc: 24.0\n",
      "H2O_pc: 18.0\n",
      "RIBULOSE-BISPHOSPHATE-CARBOXYLASE-RXN_p: -12.0\n",
      "O2_tx: -12.0\n",
      "CO2_tx: 12.0\n",
      "CO2_pc: -12.0\n",
      "H2O_tx: 10.0\n",
      "TRIOSEPISOMERIZATION-RXN_p: 10.0\n",
      "RIBULP3EPIM-RXN_p: -8.0\n",
      "F16ALDOLASE-RXN_p: -6.0\n",
      "RXN1F-66_p: -4.0\n",
      "RXN-7678-NAD_p: -4.0\n",
      "OAA_MAL_pc: 4.0\n",
      "MALATE-DEH-RXN_p: 4.0\n",
      "MALATE-DEH-RXN_c: -4.0\n",
      "RIB5PISOM-RXN_p: 4.0\n",
      "2TRANSKETO-RXN_p: -4.0\n",
      "1TRANSKETO-RXN_p: 4.0\n",
      "PHOSPHOGLUCMUT-RXN_p: -2.0\n",
      "PGLUCISOM-RXN_p: -2.0\n",
      "Starch_tx: -1.0\n",
      "O2_pc: -1.0\n",
      "optimal\n",
      "optimal\n"
     ]
    },
    {
     "name": "stderr",
     "output_type": "stream",
     "text": [
      "cobra/util/solver.py:403 \u001b[1;31mUserWarning\u001b[0m: solver status is 'infeasible'\n"
     ]
    },
    {
     "ename": "KeyError",
     "evalue": "'D-SEDOHEPTULOSE-1-7-P2_p'",
     "output_type": "error",
     "traceback": [
      "\u001b[0;31m---------------------------------------------------------------------------\u001b[0m",
      "\u001b[0;31mKeyError\u001b[0m                                  Traceback (most recent call last)",
      "\u001b[0;32m<ipython-input-8-c715b14e8a6c>\u001b[0m in \u001b[0;36m<module>\u001b[0;34m()\u001b[0m\n\u001b[1;32m      7\u001b[0m \u001b[0mm\u001b[0m\u001b[0;34m.\u001b[0m\u001b[0mNetStoi\u001b[0m\u001b[0;34m(\u001b[0m\u001b[0;34m)\u001b[0m\u001b[0;34m\u001b[0m\u001b[0m\n\u001b[1;32m      8\u001b[0m \u001b[0mm\u001b[0m\u001b[0;34m.\u001b[0m\u001b[0mProduceMetabolites\u001b[0m\u001b[0;34m(\u001b[0m\u001b[0;34m)\u001b[0m\u001b[0;34m\u001b[0m\u001b[0m\n\u001b[0;32m----> 9\u001b[0;31m \u001b[0mm\u001b[0m\u001b[0;34m.\u001b[0m\u001b[0mBlockedMetabolites\u001b[0m\u001b[0;34m(\u001b[0m\u001b[0;34m)\u001b[0m\u001b[0;34m\u001b[0m\u001b[0m\n\u001b[0m",
      "\u001b[0;32m/home/kristoforus/compbio/scobra/classes/model.pyc\u001b[0m in \u001b[0;36mBlockedMetabolites\u001b[0;34m(self, metabolites, fva, tol)\u001b[0m\n\u001b[1;32m    998\u001b[0m             \u001b[0mmetabolites\u001b[0m \u001b[0;34m=\u001b[0m \u001b[0mself\u001b[0m\u001b[0;34m.\u001b[0m\u001b[0mMetabolites\u001b[0m\u001b[0;34m\u001b[0m\u001b[0m\n\u001b[1;32m    999\u001b[0m         \u001b[0;32mif\u001b[0m \u001b[0mfva\u001b[0m \u001b[0;34m==\u001b[0m \u001b[0mNone\u001b[0m\u001b[0;34m:\u001b[0m\u001b[0;34m\u001b[0m\u001b[0m\n\u001b[0;32m-> 1000\u001b[0;31m             \u001b[0mfva\u001b[0m \u001b[0;34m=\u001b[0m \u001b[0mself\u001b[0m\u001b[0;34m.\u001b[0m\u001b[0mFVA\u001b[0m\u001b[0;34m(\u001b[0m\u001b[0;34m)\u001b[0m\u001b[0;34m\u001b[0m\u001b[0m\n\u001b[0m\u001b[1;32m   1001\u001b[0m         \u001b[0mallowedreacs\u001b[0m \u001b[0;34m=\u001b[0m \u001b[0mfva\u001b[0m\u001b[0;34m.\u001b[0m\u001b[0mAllowed\u001b[0m\u001b[0;34m(\u001b[0m\u001b[0mtol\u001b[0m\u001b[0;34m=\u001b[0m\u001b[0mtol\u001b[0m\u001b[0;34m)\u001b[0m\u001b[0;34m\u001b[0m\u001b[0m\n\u001b[1;32m   1002\u001b[0m         \u001b[0mallowed_mets\u001b[0m \u001b[0;34m=\u001b[0m \u001b[0;34m[\u001b[0m\u001b[0;34m]\u001b[0m\u001b[0;34m\u001b[0m\u001b[0m\n",
      "\u001b[0;32m/home/kristoforus/compbio/scobra/classes/model.pyc\u001b[0m in \u001b[0;36mFVA\u001b[0;34m(self, reaclist, subopt, IncZeroes, VaryOnly, AsMtx, tol, PrintStatus, cobra, processes)\u001b[0m\n\u001b[1;32m   1018\u001b[0m         rv = FVA.FVA(self, reaclist=reaclist, subopt=subopt,\n\u001b[1;32m   1019\u001b[0m             \u001b[0mIncZeroes\u001b[0m\u001b[0;34m=\u001b[0m\u001b[0mIncZeroes\u001b[0m\u001b[0;34m,\u001b[0m \u001b[0mVaryOnly\u001b[0m\u001b[0;34m=\u001b[0m\u001b[0mVaryOnly\u001b[0m\u001b[0;34m,\u001b[0m \u001b[0mAsMtx\u001b[0m\u001b[0;34m=\u001b[0m\u001b[0mAsMtx\u001b[0m\u001b[0;34m,\u001b[0m \u001b[0mtol\u001b[0m\u001b[0;34m=\u001b[0m\u001b[0mtol\u001b[0m\u001b[0;34m,\u001b[0m\u001b[0;34m\u001b[0m\u001b[0m\n\u001b[0;32m-> 1020\u001b[0;31m             PrintStatus=PrintStatus, cobra=cobra)\n\u001b[0m\u001b[1;32m   1021\u001b[0m         \u001b[0;32mif\u001b[0m \u001b[0mrv\u001b[0m\u001b[0;34m:\u001b[0m \u001b[0;32mreturn\u001b[0m \u001b[0mrv\u001b[0m\u001b[0;34m\u001b[0m\u001b[0m\n\u001b[1;32m   1022\u001b[0m \u001b[0;34m\u001b[0m\u001b[0m\n",
      "\u001b[0;32m/home/kristoforus/compbio/scobra/analysis/FVA.pyc\u001b[0m in \u001b[0;36mFVA\u001b[0;34m(model, reaclist, subopt, IncZeroes, VaryOnly, AsMtx, tol, PrintStatus, cobra, processes)\u001b[0m\n\u001b[1;32m     10\u001b[0m         AsMtx=False, tol=1e-10, PrintStatus=False, cobra=False, processes=None):\n\u001b[1;32m     11\u001b[0m     \u001b[0mstate\u001b[0m \u001b[0;34m=\u001b[0m \u001b[0mmodel\u001b[0m\u001b[0;34m.\u001b[0m\u001b[0mGetState\u001b[0m\u001b[0;34m(\u001b[0m\u001b[0;34m)\u001b[0m\u001b[0;34m\u001b[0m\u001b[0m\n\u001b[0;32m---> 12\u001b[0;31m     \u001b[0mmodel\u001b[0m\u001b[0;34m.\u001b[0m\u001b[0mSolve\u001b[0m\u001b[0;34m(\u001b[0m\u001b[0mPrintStatus\u001b[0m\u001b[0;34m=\u001b[0m\u001b[0mPrintStatus\u001b[0m\u001b[0;34m)\u001b[0m\u001b[0;34m\u001b[0m\u001b[0m\n\u001b[0m\u001b[1;32m     13\u001b[0m     \u001b[0;32mif\u001b[0m \u001b[0mmodel\u001b[0m\u001b[0;34m.\u001b[0m\u001b[0msolution\u001b[0m\u001b[0;34m.\u001b[0m\u001b[0mstatus\u001b[0m \u001b[0;34m!=\u001b[0m \u001b[0;34m'optimal'\u001b[0m \u001b[0;32mor\u001b[0m \u001b[0mmath\u001b[0m\u001b[0;34m.\u001b[0m\u001b[0misnan\u001b[0m\u001b[0;34m(\u001b[0m\u001b[0mmodel\u001b[0m\u001b[0;34m.\u001b[0m\u001b[0msolution\u001b[0m\u001b[0;34m.\u001b[0m\u001b[0mf\u001b[0m\u001b[0;34m)\u001b[0m\u001b[0;34m:\u001b[0m\u001b[0;34m\u001b[0m\u001b[0m\n\u001b[1;32m     14\u001b[0m         \u001b[0mstatusmsg\u001b[0m \u001b[0;34m=\u001b[0m \u001b[0mmodel\u001b[0m\u001b[0;34m.\u001b[0m\u001b[0msolution\u001b[0m\u001b[0;34m.\u001b[0m\u001b[0mstatus\u001b[0m\u001b[0;34m\u001b[0m\u001b[0m\n",
      "\u001b[0;32m/home/kristoforus/compbio/scobra/classes/model.pyc\u001b[0m in \u001b[0;36mSolve\u001b[0;34m(self, PrintStatus)\u001b[0m\n\u001b[1;32m    812\u001b[0m     \u001b[0;31m######## SOLVING #################################\u001b[0m\u001b[0;34m\u001b[0m\u001b[0;34m\u001b[0m\u001b[0m\n\u001b[1;32m    813\u001b[0m     \u001b[0;32mdef\u001b[0m \u001b[0mSolve\u001b[0m\u001b[0;34m(\u001b[0m\u001b[0mself\u001b[0m\u001b[0;34m,\u001b[0m\u001b[0mPrintStatus\u001b[0m\u001b[0;34m=\u001b[0m\u001b[0mTrue\u001b[0m\u001b[0;34m)\u001b[0m\u001b[0;34m:\u001b[0m\u001b[0;34m\u001b[0m\u001b[0m\n\u001b[0;32m--> 814\u001b[0;31m         \u001b[0mself\u001b[0m\u001b[0;34m.\u001b[0m\u001b[0moptimize\u001b[0m\u001b[0;34m(\u001b[0m\u001b[0mobjective_sense\u001b[0m\u001b[0;34m=\u001b[0m\u001b[0mself\u001b[0m\u001b[0;34m.\u001b[0m\u001b[0mobjective_direction\u001b[0m\u001b[0;34m)\u001b[0m\u001b[0;34m\u001b[0m\u001b[0m\n\u001b[0m\u001b[1;32m    815\u001b[0m                       \u001b[0;31m#solver=self.solver,\u001b[0m\u001b[0;34m\u001b[0m\u001b[0;34m\u001b[0m\u001b[0m\n\u001b[1;32m    816\u001b[0m                       \u001b[0;31m#quadratic_component=self.quadratic_component)\u001b[0m\u001b[0;34m\u001b[0m\u001b[0;34m\u001b[0m\u001b[0m\n",
      "\u001b[0;32m/home/kristoforus/compbio/updating_scobra/local/lib/python2.7/site-packages/cobra/core/model.pyc\u001b[0m in \u001b[0;36moptimize\u001b[0;34m(self, objective_sense, raise_error)\u001b[0m\n\u001b[1;32m    836\u001b[0m                 objective_sense, original_direction)\n\u001b[1;32m    837\u001b[0m         \u001b[0mself\u001b[0m\u001b[0;34m.\u001b[0m\u001b[0mslim_optimize\u001b[0m\u001b[0;34m(\u001b[0m\u001b[0;34m)\u001b[0m\u001b[0;34m\u001b[0m\u001b[0m\n\u001b[0;32m--> 838\u001b[0;31m         \u001b[0msolution\u001b[0m \u001b[0;34m=\u001b[0m \u001b[0mget_solution\u001b[0m\u001b[0;34m(\u001b[0m\u001b[0mself\u001b[0m\u001b[0;34m,\u001b[0m \u001b[0mraise_error\u001b[0m\u001b[0;34m=\u001b[0m\u001b[0mraise_error\u001b[0m\u001b[0;34m)\u001b[0m\u001b[0;34m\u001b[0m\u001b[0m\n\u001b[0m\u001b[1;32m    839\u001b[0m         \u001b[0mself\u001b[0m\u001b[0;34m.\u001b[0m\u001b[0mobjective\u001b[0m\u001b[0;34m.\u001b[0m\u001b[0mdirection\u001b[0m \u001b[0;34m=\u001b[0m \u001b[0moriginal_direction\u001b[0m\u001b[0;34m\u001b[0m\u001b[0m\n\u001b[1;32m    840\u001b[0m         \u001b[0;32mreturn\u001b[0m \u001b[0msolution\u001b[0m\u001b[0;34m\u001b[0m\u001b[0m\n",
      "\u001b[0;32m/home/kristoforus/compbio/updating_scobra/local/lib/python2.7/site-packages/cobra/core/solution.pyc\u001b[0m in \u001b[0;36mget_solution\u001b[0;34m(model, reactions, metabolites, raise_error)\u001b[0m\n\u001b[1;32m    315\u001b[0m         \u001b[0;32mfor\u001b[0m \u001b[0;34m(\u001b[0m\u001b[0mi\u001b[0m\u001b[0;34m,\u001b[0m \u001b[0mmet\u001b[0m\u001b[0;34m)\u001b[0m \u001b[0;32min\u001b[0m \u001b[0menumerate\u001b[0m\u001b[0;34m(\u001b[0m\u001b[0mmetabolites\u001b[0m\u001b[0;34m)\u001b[0m\u001b[0;34m:\u001b[0m\u001b[0;34m\u001b[0m\u001b[0m\n\u001b[1;32m    316\u001b[0m             \u001b[0mmet_index\u001b[0m\u001b[0;34m.\u001b[0m\u001b[0mappend\u001b[0m\u001b[0;34m(\u001b[0m\u001b[0mmet\u001b[0m\u001b[0;34m.\u001b[0m\u001b[0mid\u001b[0m\u001b[0;34m)\u001b[0m\u001b[0;34m\u001b[0m\u001b[0m\n\u001b[0;32m--> 317\u001b[0;31m             \u001b[0mshadow\u001b[0m\u001b[0;34m[\u001b[0m\u001b[0mi\u001b[0m\u001b[0;34m]\u001b[0m \u001b[0;34m=\u001b[0m \u001b[0mconstr_duals\u001b[0m\u001b[0;34m[\u001b[0m\u001b[0mmet\u001b[0m\u001b[0;34m.\u001b[0m\u001b[0mid\u001b[0m\u001b[0;34m]\u001b[0m\u001b[0;34m\u001b[0m\u001b[0m\n\u001b[0m\u001b[1;32m    318\u001b[0m     return Solution(model.solver.objective.value, model.solver.status,\n\u001b[1;32m    319\u001b[0m                     \u001b[0mSeries\u001b[0m\u001b[0;34m(\u001b[0m\u001b[0mindex\u001b[0m\u001b[0;34m=\u001b[0m\u001b[0mrxn_index\u001b[0m\u001b[0;34m,\u001b[0m \u001b[0mdata\u001b[0m\u001b[0;34m=\u001b[0m\u001b[0mfluxes\u001b[0m\u001b[0;34m,\u001b[0m \u001b[0mname\u001b[0m\u001b[0;34m=\u001b[0m\u001b[0;34m\"fluxes\"\u001b[0m\u001b[0;34m)\u001b[0m\u001b[0;34m,\u001b[0m\u001b[0;34m\u001b[0m\u001b[0m\n",
      "\u001b[0;31mKeyError\u001b[0m: 'D-SEDOHEPTULOSE-1-7-P2_p'"
     ]
    }
   ],
   "source": [
    "# SOLVING AND PRINTING SOLUTIONS\n",
    "m.Solve()\n",
    "m.GetSol()\n",
    "m.PrintSol()\n",
    "m.MinFluxSolve()\n",
    "m.AdjustedMinFluxSolve()\n",
    "m.NetStoi()\n",
    "m.ProduceMetabolites()\n",
    "m.BlockedMetabolites()"
   ]
  },
  {
   "cell_type": "code",
   "execution_count": null,
   "metadata": {
    "scrolled": false
   },
   "outputs": [],
   "source": [
    "# PARETO \n",
    "the_sample = [['RIBULP3EPIM-RXN_p'], {'GLUC1PADENYLTRANS-RXN_p':3, 'CO2_tx':2}]\n",
    "m.Pareto(the_sample, \"Min\", 10) # every single run outputs the same result "
   ]
  },
  {
   "cell_type": "code",
   "execution_count": null,
   "metadata": {
    "scrolled": true
   },
   "outputs": [],
   "source": [
    "# FLUX SUM\n",
    "\n",
    "m.FluxSum('G3P_c')"
   ]
  },
  {
   "cell_type": "code",
   "execution_count": null,
   "metadata": {},
   "outputs": [],
   "source": [
    "# FLUX RANGE\n",
    "m.RandomMinFlux()"
   ]
  },
  {
   "cell_type": "code",
   "execution_count": null,
   "metadata": {},
   "outputs": [],
   "source": [
    "# GRAPHS\n",
    "m.DeadEndMetabolites()\n",
    "m.PeripheralMetabolites()\n",
    "m.ChokepointReactions()\n",
    "m.GetNeighbours('GLC-6-P_p')\n",
    "m.DegreeDist()\n",
    "m.MetabolitesDegree()\n",
    "m.ReactionsDegree()"
   ]
  },
  {
   "cell_type": "code",
   "execution_count": null,
   "metadata": {},
   "outputs": [],
   "source": [
    "end = timeit.default_timer()\n",
    "print(end - start)"
   ]
  },
  {
   "cell_type": "code",
   "execution_count": null,
   "metadata": {},
   "outputs": [],
   "source": [
    "#import random\n",
    "#sample = random.sample(range(len(m.Reactions())), 3)\n",
    "#sample\n",
    "#the_sample = [m.Reactions()[x] for x in sample]\n",
    "#the_sample = ['PHOSGLYPHOS_RXN_c', 'H_tx', 'F16BDEPHOS_RXN_c']"
   ]
  }
 ],
 "metadata": {
  "kernelspec": {
   "display_name": "Python 2",
   "language": "python",
   "name": "python2"
  },
  "language_info": {
   "codemirror_mode": {
    "name": "ipython",
    "version": 2
   },
   "file_extension": ".py",
   "mimetype": "text/x-python",
   "name": "python",
   "nbconvert_exporter": "python",
   "pygments_lexer": "ipython2",
   "version": "2.7.12"
  }
 },
 "nbformat": 4,
 "nbformat_minor": 2
}
